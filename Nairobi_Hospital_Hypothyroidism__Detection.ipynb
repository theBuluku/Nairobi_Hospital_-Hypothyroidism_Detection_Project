{
  "nbformat": 4,
  "nbformat_minor": 0,
  "metadata": {
    "colab": {
      "name": "Nairobi_Hospital_Hypothyroidism__Detection",
      "provenance": [],
      "collapsed_sections": [],
      "toc_visible": true,
      "include_colab_link": true
    },
    "kernelspec": {
      "name": "python3",
      "display_name": "Python 3"
    },
    "accelerator": "GPU"
  },
  "cells": [
    {
      "cell_type": "markdown",
      "metadata": {
        "id": "view-in-github",
        "colab_type": "text"
      },
      "source": [
        "<a href=\"https://colab.research.google.com/github/theBuluku/Nairobi_Hospital_-Hypothyroidism_Detection_Project/blob/master/Nairobi_Hospital_Hypothyroidism__Detection.ipynb\" target=\"_parent\"><img src=\"https://colab.research.google.com/assets/colab-badge.svg\" alt=\"Open In Colab\"/></a>"
      ]
    },
    {
      "cell_type": "markdown",
      "metadata": {
        "id": "4m_nnVhkxYs9",
        "colab_type": "text"
      },
      "source": [
        "#Problem Statement."
      ]
    },
    {
      "cell_type": "markdown",
      "metadata": {
        "id": "u72Vak31yA23",
        "colab_type": "text"
      },
      "source": [
        "To determine whether or not the patient's symptoms indicate that the patient has hypothyroid."
      ]
    },
    {
      "cell_type": "markdown",
      "metadata": {
        "id": "w0xlSOwWyQfc",
        "colab_type": "text"
      },
      "source": [
        "# Metrics of Sucess.\n"
      ]
    },
    {
      "cell_type": "markdown",
      "metadata": {
        "id": "fLO2O96kvm0O",
        "colab_type": "text"
      },
      "source": [
        "i)f1 score.\n",
        "ii)Accuracy score.\n",
        "iii)Recall score.\n",
        "-"
      ]
    },
    {
      "cell_type": "markdown",
      "metadata": {
        "id": "toRz_PNzyjvu",
        "colab_type": "text"
      },
      "source": [
        "#Importing Environments to use in the Project."
      ]
    },
    {
      "cell_type": "code",
      "metadata": {
        "id": "3GCLrNO1yuzZ",
        "colab_type": "code",
        "colab": {}
      },
      "source": [
        "#Import libraries\n",
        "import numpy as np\n",
        "import pandas as pd\n",
        "import pydotplus\n",
        "#Importing decision tree modules.\n",
        "from sklearn.tree import DecisionTreeClassifier\n",
        "from sklearn.model_selection import train_test_split\n",
        "from sklearn.tree import export_graphviz\n",
        "from sklearn.externals.six import StringIO  \n",
        "from IPython.display import Image  \n",
        "from sklearn.decomposition import PCA\n",
        "from sklearn.model_selection import train_test_split\n",
        "from sklearn.metrics import confusion_matrix,accuracy_score\n",
        "from sklearn.svm import SVC\n",
        "from sklearn.ensemble import RandomForestClassifier,RandomForestRegressor,AdaBoostClassifier,AdaBoostRegressor,GradientBoostingClassifier\n",
        "# Import Suport Vector Classifier module from svm library. We'll use SVC to model our data\n",
        "from sklearn.svm import SVC,LinearSVC\n",
        "from sklearn.model_selection import train_test_split\n",
        "#Import scikit-learn module for accuracy calculation\n",
        "from sklearn.metrics import  accuracy_score\n",
        "from sklearn.metrics import confusion_matrix\n",
        "import seaborn as sns\n",
        "from imblearn.over_sampling import SMOTE "
      ],
      "execution_count": 0,
      "outputs": []
    },
    {
      "cell_type": "markdown",
      "metadata": {
        "id": "03v8K3uD4CF4",
        "colab_type": "text"
      },
      "source": [
        "#Dataset Loading."
      ]
    },
    {
      "cell_type": "code",
      "metadata": {
        "id": "o0ZJbvh64LEw",
        "colab_type": "code",
        "outputId": "5ef4169c-71d1-457e-ff93-0e0fcb642101",
        "colab": {
          "base_uri": "https://localhost:8080/",
          "height": 245
        }
      },
      "source": [
        "#Loading our dataset to use for modelling and displaying the first five rows of the data.\n",
        "nairobi_hosp_data=pd.read_csv('hypothyroid.csv')\n",
        "nairobi_hosp_data.head(6)"
      ],
      "execution_count": 153,
      "outputs": [
        {
          "output_type": "execute_result",
          "data": {
            "text/html": [
              "<div>\n",
              "<style scoped>\n",
              "    .dataframe tbody tr th:only-of-type {\n",
              "        vertical-align: middle;\n",
              "    }\n",
              "\n",
              "    .dataframe tbody tr th {\n",
              "        vertical-align: top;\n",
              "    }\n",
              "\n",
              "    .dataframe thead th {\n",
              "        text-align: right;\n",
              "    }\n",
              "</style>\n",
              "<table border=\"1\" class=\"dataframe\">\n",
              "  <thead>\n",
              "    <tr style=\"text-align: right;\">\n",
              "      <th></th>\n",
              "      <th>status</th>\n",
              "      <th>age</th>\n",
              "      <th>sex</th>\n",
              "      <th>on_thyroxine</th>\n",
              "      <th>query_on_thyroxine</th>\n",
              "      <th>on_antithyroid_medication</th>\n",
              "      <th>thyroid_surgery</th>\n",
              "      <th>query_hypothyroid</th>\n",
              "      <th>query_hyperthyroid</th>\n",
              "      <th>pregnant</th>\n",
              "      <th>sick</th>\n",
              "      <th>tumor</th>\n",
              "      <th>lithium</th>\n",
              "      <th>goitre</th>\n",
              "      <th>TSH_measured</th>\n",
              "      <th>TSH</th>\n",
              "      <th>T3_measured</th>\n",
              "      <th>T3</th>\n",
              "      <th>TT4_measured</th>\n",
              "      <th>TT4</th>\n",
              "      <th>T4U_measured</th>\n",
              "      <th>T4U</th>\n",
              "      <th>FTI_measured</th>\n",
              "      <th>FTI</th>\n",
              "      <th>TBG_measured</th>\n",
              "      <th>TBG</th>\n",
              "    </tr>\n",
              "  </thead>\n",
              "  <tbody>\n",
              "    <tr>\n",
              "      <th>0</th>\n",
              "      <td>hypothyroid</td>\n",
              "      <td>72</td>\n",
              "      <td>M</td>\n",
              "      <td>f</td>\n",
              "      <td>f</td>\n",
              "      <td>f</td>\n",
              "      <td>f</td>\n",
              "      <td>f</td>\n",
              "      <td>f</td>\n",
              "      <td>f</td>\n",
              "      <td>f</td>\n",
              "      <td>f</td>\n",
              "      <td>f</td>\n",
              "      <td>f</td>\n",
              "      <td>y</td>\n",
              "      <td>30</td>\n",
              "      <td>y</td>\n",
              "      <td>0.60</td>\n",
              "      <td>y</td>\n",
              "      <td>15</td>\n",
              "      <td>y</td>\n",
              "      <td>1.48</td>\n",
              "      <td>y</td>\n",
              "      <td>10</td>\n",
              "      <td>n</td>\n",
              "      <td>?</td>\n",
              "    </tr>\n",
              "    <tr>\n",
              "      <th>1</th>\n",
              "      <td>hypothyroid</td>\n",
              "      <td>15</td>\n",
              "      <td>F</td>\n",
              "      <td>t</td>\n",
              "      <td>f</td>\n",
              "      <td>f</td>\n",
              "      <td>f</td>\n",
              "      <td>f</td>\n",
              "      <td>f</td>\n",
              "      <td>f</td>\n",
              "      <td>f</td>\n",
              "      <td>f</td>\n",
              "      <td>f</td>\n",
              "      <td>f</td>\n",
              "      <td>y</td>\n",
              "      <td>145</td>\n",
              "      <td>y</td>\n",
              "      <td>1.70</td>\n",
              "      <td>y</td>\n",
              "      <td>19</td>\n",
              "      <td>y</td>\n",
              "      <td>1.13</td>\n",
              "      <td>y</td>\n",
              "      <td>17</td>\n",
              "      <td>n</td>\n",
              "      <td>?</td>\n",
              "    </tr>\n",
              "    <tr>\n",
              "      <th>2</th>\n",
              "      <td>hypothyroid</td>\n",
              "      <td>24</td>\n",
              "      <td>M</td>\n",
              "      <td>f</td>\n",
              "      <td>f</td>\n",
              "      <td>f</td>\n",
              "      <td>f</td>\n",
              "      <td>f</td>\n",
              "      <td>f</td>\n",
              "      <td>f</td>\n",
              "      <td>f</td>\n",
              "      <td>f</td>\n",
              "      <td>f</td>\n",
              "      <td>f</td>\n",
              "      <td>y</td>\n",
              "      <td>0</td>\n",
              "      <td>y</td>\n",
              "      <td>0.20</td>\n",
              "      <td>y</td>\n",
              "      <td>4</td>\n",
              "      <td>y</td>\n",
              "      <td>1</td>\n",
              "      <td>y</td>\n",
              "      <td>0</td>\n",
              "      <td>n</td>\n",
              "      <td>?</td>\n",
              "    </tr>\n",
              "    <tr>\n",
              "      <th>3</th>\n",
              "      <td>hypothyroid</td>\n",
              "      <td>24</td>\n",
              "      <td>F</td>\n",
              "      <td>f</td>\n",
              "      <td>f</td>\n",
              "      <td>f</td>\n",
              "      <td>f</td>\n",
              "      <td>f</td>\n",
              "      <td>f</td>\n",
              "      <td>f</td>\n",
              "      <td>f</td>\n",
              "      <td>f</td>\n",
              "      <td>f</td>\n",
              "      <td>f</td>\n",
              "      <td>y</td>\n",
              "      <td>430</td>\n",
              "      <td>y</td>\n",
              "      <td>0.40</td>\n",
              "      <td>y</td>\n",
              "      <td>6</td>\n",
              "      <td>y</td>\n",
              "      <td>1.04</td>\n",
              "      <td>y</td>\n",
              "      <td>6</td>\n",
              "      <td>n</td>\n",
              "      <td>?</td>\n",
              "    </tr>\n",
              "    <tr>\n",
              "      <th>4</th>\n",
              "      <td>hypothyroid</td>\n",
              "      <td>77</td>\n",
              "      <td>M</td>\n",
              "      <td>f</td>\n",
              "      <td>f</td>\n",
              "      <td>f</td>\n",
              "      <td>f</td>\n",
              "      <td>f</td>\n",
              "      <td>f</td>\n",
              "      <td>f</td>\n",
              "      <td>f</td>\n",
              "      <td>f</td>\n",
              "      <td>f</td>\n",
              "      <td>f</td>\n",
              "      <td>y</td>\n",
              "      <td>7.30</td>\n",
              "      <td>y</td>\n",
              "      <td>1.20</td>\n",
              "      <td>y</td>\n",
              "      <td>57</td>\n",
              "      <td>y</td>\n",
              "      <td>1.28</td>\n",
              "      <td>y</td>\n",
              "      <td>44</td>\n",
              "      <td>n</td>\n",
              "      <td>?</td>\n",
              "    </tr>\n",
              "    <tr>\n",
              "      <th>5</th>\n",
              "      <td>hypothyroid</td>\n",
              "      <td>85</td>\n",
              "      <td>F</td>\n",
              "      <td>f</td>\n",
              "      <td>f</td>\n",
              "      <td>f</td>\n",
              "      <td>f</td>\n",
              "      <td>t</td>\n",
              "      <td>f</td>\n",
              "      <td>f</td>\n",
              "      <td>f</td>\n",
              "      <td>f</td>\n",
              "      <td>f</td>\n",
              "      <td>f</td>\n",
              "      <td>y</td>\n",
              "      <td>138</td>\n",
              "      <td>y</td>\n",
              "      <td>1.10</td>\n",
              "      <td>y</td>\n",
              "      <td>27</td>\n",
              "      <td>y</td>\n",
              "      <td>1.19</td>\n",
              "      <td>y</td>\n",
              "      <td>23</td>\n",
              "      <td>n</td>\n",
              "      <td>?</td>\n",
              "    </tr>\n",
              "  </tbody>\n",
              "</table>\n",
              "</div>"
            ],
            "text/plain": [
              "        status age sex on_thyroxine  ... FTI_measured FTI TBG_measured TBG\n",
              "0  hypothyroid  72   M            f  ...            y  10            n   ?\n",
              "1  hypothyroid  15   F            t  ...            y  17            n   ?\n",
              "2  hypothyroid  24   M            f  ...            y   0            n   ?\n",
              "3  hypothyroid  24   F            f  ...            y   6            n   ?\n",
              "4  hypothyroid  77   M            f  ...            y  44            n   ?\n",
              "5  hypothyroid  85   F            f  ...            y  23            n   ?\n",
              "\n",
              "[6 rows x 26 columns]"
            ]
          },
          "metadata": {
            "tags": []
          },
          "execution_count": 153
        }
      ]
    },
    {
      "cell_type": "markdown",
      "metadata": {
        "id": "Ue2GX4iM5dPr",
        "colab_type": "text"
      },
      "source": [
        "#Exploratory Data Analysis."
      ]
    },
    {
      "cell_type": "markdown",
      "metadata": {
        "id": "sYgG8TrG5m-R",
        "colab_type": "text"
      },
      "source": [
        "This section is for the purpose of getting insights from our dataset and exploring more from our data."
      ]
    },
    {
      "cell_type": "code",
      "metadata": {
        "id": "RDwt91O-54Yd",
        "colab_type": "code",
        "outputId": "f68b3d8b-cfc4-4e4c-c032-0667cc8b2803",
        "colab": {
          "base_uri": "https://localhost:8080/",
          "height": 186
        }
      },
      "source": [
        "#checking the statistical information of the data\n",
        "nairobi_hosp_data.describe()"
      ],
      "execution_count": 154,
      "outputs": [
        {
          "output_type": "execute_result",
          "data": {
            "text/html": [
              "<div>\n",
              "<style scoped>\n",
              "    .dataframe tbody tr th:only-of-type {\n",
              "        vertical-align: middle;\n",
              "    }\n",
              "\n",
              "    .dataframe tbody tr th {\n",
              "        vertical-align: top;\n",
              "    }\n",
              "\n",
              "    .dataframe thead th {\n",
              "        text-align: right;\n",
              "    }\n",
              "</style>\n",
              "<table border=\"1\" class=\"dataframe\">\n",
              "  <thead>\n",
              "    <tr style=\"text-align: right;\">\n",
              "      <th></th>\n",
              "      <th>status</th>\n",
              "      <th>age</th>\n",
              "      <th>sex</th>\n",
              "      <th>on_thyroxine</th>\n",
              "      <th>query_on_thyroxine</th>\n",
              "      <th>on_antithyroid_medication</th>\n",
              "      <th>thyroid_surgery</th>\n",
              "      <th>query_hypothyroid</th>\n",
              "      <th>query_hyperthyroid</th>\n",
              "      <th>pregnant</th>\n",
              "      <th>sick</th>\n",
              "      <th>tumor</th>\n",
              "      <th>lithium</th>\n",
              "      <th>goitre</th>\n",
              "      <th>TSH_measured</th>\n",
              "      <th>TSH</th>\n",
              "      <th>T3_measured</th>\n",
              "      <th>T3</th>\n",
              "      <th>TT4_measured</th>\n",
              "      <th>TT4</th>\n",
              "      <th>T4U_measured</th>\n",
              "      <th>T4U</th>\n",
              "      <th>FTI_measured</th>\n",
              "      <th>FTI</th>\n",
              "      <th>TBG_measured</th>\n",
              "      <th>TBG</th>\n",
              "    </tr>\n",
              "  </thead>\n",
              "  <tbody>\n",
              "    <tr>\n",
              "      <th>count</th>\n",
              "      <td>3163</td>\n",
              "      <td>3163</td>\n",
              "      <td>3163</td>\n",
              "      <td>3163</td>\n",
              "      <td>3163</td>\n",
              "      <td>3163</td>\n",
              "      <td>3163</td>\n",
              "      <td>3163</td>\n",
              "      <td>3163</td>\n",
              "      <td>3163</td>\n",
              "      <td>3163</td>\n",
              "      <td>3163</td>\n",
              "      <td>3163</td>\n",
              "      <td>3163</td>\n",
              "      <td>3163</td>\n",
              "      <td>3163</td>\n",
              "      <td>3163</td>\n",
              "      <td>3163</td>\n",
              "      <td>3163</td>\n",
              "      <td>3163</td>\n",
              "      <td>3163</td>\n",
              "      <td>3163</td>\n",
              "      <td>3163</td>\n",
              "      <td>3163</td>\n",
              "      <td>3163</td>\n",
              "      <td>3163</td>\n",
              "    </tr>\n",
              "    <tr>\n",
              "      <th>unique</th>\n",
              "      <td>2</td>\n",
              "      <td>93</td>\n",
              "      <td>3</td>\n",
              "      <td>2</td>\n",
              "      <td>2</td>\n",
              "      <td>2</td>\n",
              "      <td>2</td>\n",
              "      <td>2</td>\n",
              "      <td>2</td>\n",
              "      <td>2</td>\n",
              "      <td>2</td>\n",
              "      <td>2</td>\n",
              "      <td>2</td>\n",
              "      <td>2</td>\n",
              "      <td>2</td>\n",
              "      <td>240</td>\n",
              "      <td>2</td>\n",
              "      <td>70</td>\n",
              "      <td>2</td>\n",
              "      <td>269</td>\n",
              "      <td>2</td>\n",
              "      <td>159</td>\n",
              "      <td>2</td>\n",
              "      <td>281</td>\n",
              "      <td>2</td>\n",
              "      <td>53</td>\n",
              "    </tr>\n",
              "    <tr>\n",
              "      <th>top</th>\n",
              "      <td>negative</td>\n",
              "      <td>?</td>\n",
              "      <td>F</td>\n",
              "      <td>f</td>\n",
              "      <td>f</td>\n",
              "      <td>f</td>\n",
              "      <td>f</td>\n",
              "      <td>f</td>\n",
              "      <td>f</td>\n",
              "      <td>f</td>\n",
              "      <td>f</td>\n",
              "      <td>f</td>\n",
              "      <td>f</td>\n",
              "      <td>f</td>\n",
              "      <td>y</td>\n",
              "      <td>0</td>\n",
              "      <td>y</td>\n",
              "      <td>?</td>\n",
              "      <td>y</td>\n",
              "      <td>?</td>\n",
              "      <td>y</td>\n",
              "      <td>?</td>\n",
              "      <td>y</td>\n",
              "      <td>?</td>\n",
              "      <td>n</td>\n",
              "      <td>?</td>\n",
              "    </tr>\n",
              "    <tr>\n",
              "      <th>freq</th>\n",
              "      <td>3012</td>\n",
              "      <td>446</td>\n",
              "      <td>2182</td>\n",
              "      <td>2702</td>\n",
              "      <td>3108</td>\n",
              "      <td>3121</td>\n",
              "      <td>3059</td>\n",
              "      <td>2922</td>\n",
              "      <td>2920</td>\n",
              "      <td>3100</td>\n",
              "      <td>3064</td>\n",
              "      <td>3123</td>\n",
              "      <td>3161</td>\n",
              "      <td>3064</td>\n",
              "      <td>2695</td>\n",
              "      <td>894</td>\n",
              "      <td>2468</td>\n",
              "      <td>695</td>\n",
              "      <td>2914</td>\n",
              "      <td>249</td>\n",
              "      <td>2915</td>\n",
              "      <td>248</td>\n",
              "      <td>2916</td>\n",
              "      <td>247</td>\n",
              "      <td>2903</td>\n",
              "      <td>2903</td>\n",
              "    </tr>\n",
              "  </tbody>\n",
              "</table>\n",
              "</div>"
            ],
            "text/plain": [
              "          status   age   sex on_thyroxine  ... FTI_measured   FTI TBG_measured   TBG\n",
              "count       3163  3163  3163         3163  ...         3163  3163         3163  3163\n",
              "unique         2    93     3            2  ...            2   281            2    53\n",
              "top     negative     ?     F            f  ...            y     ?            n     ?\n",
              "freq        3012   446  2182         2702  ...         2916   247         2903  2903\n",
              "\n",
              "[4 rows x 26 columns]"
            ]
          },
          "metadata": {
            "tags": []
          },
          "execution_count": 154
        }
      ]
    },
    {
      "cell_type": "code",
      "metadata": {
        "id": "aDthhxXpTI0z",
        "colab_type": "code",
        "outputId": "5ebbbb8d-dcf7-46c0-b0f6-57e589fdf540",
        "colab": {
          "base_uri": "https://localhost:8080/",
          "height": 34
        }
      },
      "source": [
        "#checking the number of rows and columns\n",
        "nairobi_hosp_data.shape"
      ],
      "execution_count": 155,
      "outputs": [
        {
          "output_type": "execute_result",
          "data": {
            "text/plain": [
              "(3163, 26)"
            ]
          },
          "metadata": {
            "tags": []
          },
          "execution_count": 155
        }
      ]
    },
    {
      "cell_type": "code",
      "metadata": {
        "id": "m86QRmOaTuPh",
        "colab_type": "code",
        "outputId": "394f0e42-fa13-4449-cfcf-aa22654158b2",
        "colab": {
          "base_uri": "https://localhost:8080/",
          "height": 538
        }
      },
      "source": [
        "#checking the general information about the dataset\n",
        "nairobi_hosp_data.info()"
      ],
      "execution_count": 156,
      "outputs": [
        {
          "output_type": "stream",
          "text": [
            "<class 'pandas.core.frame.DataFrame'>\n",
            "RangeIndex: 3163 entries, 0 to 3162\n",
            "Data columns (total 26 columns):\n",
            "status                       3163 non-null object\n",
            "age                          3163 non-null object\n",
            "sex                          3163 non-null object\n",
            "on_thyroxine                 3163 non-null object\n",
            "query_on_thyroxine           3163 non-null object\n",
            "on_antithyroid_medication    3163 non-null object\n",
            "thyroid_surgery              3163 non-null object\n",
            "query_hypothyroid            3163 non-null object\n",
            "query_hyperthyroid           3163 non-null object\n",
            "pregnant                     3163 non-null object\n",
            "sick                         3163 non-null object\n",
            "tumor                        3163 non-null object\n",
            "lithium                      3163 non-null object\n",
            "goitre                       3163 non-null object\n",
            "TSH_measured                 3163 non-null object\n",
            "TSH                          3163 non-null object\n",
            "T3_measured                  3163 non-null object\n",
            "T3                           3163 non-null object\n",
            "TT4_measured                 3163 non-null object\n",
            "TT4                          3163 non-null object\n",
            "T4U_measured                 3163 non-null object\n",
            "T4U                          3163 non-null object\n",
            "FTI_measured                 3163 non-null object\n",
            "FTI                          3163 non-null object\n",
            "TBG_measured                 3163 non-null object\n",
            "TBG                          3163 non-null object\n",
            "dtypes: object(26)\n",
            "memory usage: 642.6+ KB\n"
          ],
          "name": "stdout"
        }
      ]
    },
    {
      "cell_type": "code",
      "metadata": {
        "id": "IjgLoVFeLHRk",
        "colab_type": "code",
        "outputId": "944cfdeb-6b46-43f9-f3b6-452e3b919ab4",
        "colab": {
          "base_uri": "https://localhost:8080/",
          "height": 470
        }
      },
      "source": [
        "#Checking for the data types in the dataset.\n",
        "nairobi_hosp_data.dtypes"
      ],
      "execution_count": 158,
      "outputs": [
        {
          "output_type": "execute_result",
          "data": {
            "text/plain": [
              "status                       object\n",
              "age                          object\n",
              "sex                          object\n",
              "on_thyroxine                 object\n",
              "query_on_thyroxine           object\n",
              "on_antithyroid_medication    object\n",
              "thyroid_surgery              object\n",
              "query_hypothyroid            object\n",
              "query_hyperthyroid           object\n",
              "pregnant                     object\n",
              "sick                         object\n",
              "tumor                        object\n",
              "lithium                      object\n",
              "goitre                       object\n",
              "TSH_measured                 object\n",
              "TSH                          object\n",
              "T3_measured                  object\n",
              "T3                           object\n",
              "TT4_measured                 object\n",
              "TT4                          object\n",
              "T4U_measured                 object\n",
              "T4U                          object\n",
              "FTI_measured                 object\n",
              "FTI                          object\n",
              "TBG_measured                 object\n",
              "TBG                          object\n",
              "dtype: object"
            ]
          },
          "metadata": {
            "tags": []
          },
          "execution_count": 158
        }
      ]
    },
    {
      "cell_type": "code",
      "metadata": {
        "id": "mc8NyLu8LnuC",
        "colab_type": "code",
        "outputId": "55e9fa22-1fd5-4989-e13a-ccb887a62bda",
        "colab": {
          "base_uri": "https://localhost:8080/",
          "height": 470
        }
      },
      "source": [
        "#Replacing \"?\" entries with null values\n",
        "nairobi_hosp_data=nairobi_hosp_data.replace('?',np.nan)\n",
        "nairobi_hosp_data.isnull().sum()"
      ],
      "execution_count": 159,
      "outputs": [
        {
          "output_type": "execute_result",
          "data": {
            "text/plain": [
              "status                          0\n",
              "age                           446\n",
              "sex                            73\n",
              "on_thyroxine                    0\n",
              "query_on_thyroxine              0\n",
              "on_antithyroid_medication       0\n",
              "thyroid_surgery                 0\n",
              "query_hypothyroid               0\n",
              "query_hyperthyroid              0\n",
              "pregnant                        0\n",
              "sick                            0\n",
              "tumor                           0\n",
              "lithium                         0\n",
              "goitre                          0\n",
              "TSH_measured                    0\n",
              "TSH                           468\n",
              "T3_measured                     0\n",
              "T3                            695\n",
              "TT4_measured                    0\n",
              "TT4                           249\n",
              "T4U_measured                    0\n",
              "T4U                           248\n",
              "FTI_measured                    0\n",
              "FTI                           247\n",
              "TBG_measured                    0\n",
              "TBG                          2903\n",
              "dtype: int64"
            ]
          },
          "metadata": {
            "tags": []
          },
          "execution_count": 159
        }
      ]
    },
    {
      "cell_type": "code",
      "metadata": {
        "id": "vl5HXqGXMa3O",
        "colab_type": "code",
        "outputId": "857a24b4-0282-4216-d766-cbd663d5b1a0",
        "colab": {
          "base_uri": "https://localhost:8080/",
          "height": 1000
        }
      },
      "source": [
        "#Retrieving unique values for categorical columns.\n",
        "columns = nairobi_hosp_data.columns\n",
        "for i in columns:\n",
        "  print(i)\n",
        "  print(nairobi_hosp_data[i].unique())\n",
        "  print(\"******************\")\n",
        "  print(\"\\n\")"
      ],
      "execution_count": 160,
      "outputs": [
        {
          "output_type": "stream",
          "text": [
            "status\n",
            "['hypothyroid' 'negative']\n",
            "******************\n",
            "\n",
            "\n",
            "age\n",
            "['72' '15' '24' '77' '85' '64' '20' '42' '69' '75' '53' '59' '68' '50'\n",
            " '78' '65' '28' '43' '40' '84' nan '83' '63' '73' '36' '27' '48' '71' '60'\n",
            " '34' '79' '62' '74' '32' '41' '70' '29' '5' '58' '35' '51' '22' '16' '44'\n",
            " '39' '47' '18' '17' '88' '56' '30' '45' '66' '52' '54' '80' '33' '38'\n",
            " '92' '67' '46' '13' '89' '61' '49' '26' '57' '31' '90' '81' '25' '37'\n",
            " '76' '87' '23' '55' '86' '98' '21' '97' '1' '6' '14' '82' '11' '19' '9'\n",
            " '12' '10' '8' '7' '4' '93']\n",
            "******************\n",
            "\n",
            "\n",
            "sex\n",
            "['M' 'F' nan]\n",
            "******************\n",
            "\n",
            "\n",
            "on_thyroxine\n",
            "['f' 't']\n",
            "******************\n",
            "\n",
            "\n",
            "query_on_thyroxine\n",
            "['f' 't']\n",
            "******************\n",
            "\n",
            "\n",
            "on_antithyroid_medication\n",
            "['f' 't']\n",
            "******************\n",
            "\n",
            "\n",
            "thyroid_surgery\n",
            "['f' 't']\n",
            "******************\n",
            "\n",
            "\n",
            "query_hypothyroid\n",
            "['f' 't']\n",
            "******************\n",
            "\n",
            "\n",
            "query_hyperthyroid\n",
            "['f' 't']\n",
            "******************\n",
            "\n",
            "\n",
            "pregnant\n",
            "['f' 't']\n",
            "******************\n",
            "\n",
            "\n",
            "sick\n",
            "['f' 't']\n",
            "******************\n",
            "\n",
            "\n",
            "tumor\n",
            "['f' 't']\n",
            "******************\n",
            "\n",
            "\n",
            "lithium\n",
            "['f' 't']\n",
            "******************\n",
            "\n",
            "\n",
            "goitre\n",
            "['f' 't']\n",
            "******************\n",
            "\n",
            "\n",
            "TSH_measured\n",
            "['y' 'n']\n",
            "******************\n",
            "\n",
            "\n",
            "TSH\n",
            "['30' '145' '0' '430' '7.30' '138' '7.70' '21' '92' '48' '36' '15' '15.30'\n",
            " '25' '61' '28' '170' '54' '216' '56' '71' '46' '70' '34' '53' '9.40'\n",
            " '126' '10' '530' '35' '65' '57' '125' '23' '80' '117' '49' '66' '8.20'\n",
            " '150' nan '18' '165' '164' '24' '90' '77' '19' '58' '100' '213' '17'\n",
            " '235' '153' '13' '31' '109' '260' '43' '12' '11' '55' '6.50' '20' '7.50'\n",
            " '14' '60' '140' '33' '8.70' '0.25' '10.70' '82' '45' '42' '41' '160' '16'\n",
            " '89' '44' '176' '6.40' '183' '29' '37' '39' '7.90' '59' '68' '38' '47'\n",
            " '143' '6.60' '288' '96' '0.50' '1.20' '1.90' '0.09' '3.10' '0.40' '0.85'\n",
            " '0.30' '0.90' '1.50' '4.60' '0.20' '5.80' '4' '1.40' '2' '2.60' '2.90'\n",
            " '0.80' '4.90' '10.30' '2.30' '0.70' '0.60' '1.30' '2.50' '5.10' '1.70'\n",
            " '2.70' '22' '8.10' '3.30' '5' '3.20' '1.80' '1.10' '0.46' '1' '5.60'\n",
            " '4.40' '16.50' '2.10' '6.30' '5.50' '7.40' '5.90' '0.15' '14.90' '2.20'\n",
            " '9.70' '9.60' '1.60' '3.70' '3' '2.80' '0.10' '4.20' '27' '3.50' '0.05'\n",
            " '19.20' '8' '9.10' '3.60' '7.80' '3.80' '8.50' '9.20' '52' '2.40' '3.90'\n",
            " '0.03' '0.04' '26' '6.10' '0.65' '0.92' '7.60' '8.40' '14.40' '1.05'\n",
            " '0.37' '178' '6.90' '4.50' '4.70' '40' '6' '4.10' '14.30' '5.40' '8.30'\n",
            " '0.06' '8.80' '8.90' '7.10' '4.80' '0.43' '6.70' '200' '8.60' '86' '0.21'\n",
            " '9' '0.26' '3.40' '6.20' '17.40' '85' '1.83' '63' '13.30' '0.02' '0.42'\n",
            " '9.50' '0.84' '0.88' '4.30' '0.67' '0.81' '5.20' '9.80' '76' '0.62'\n",
            " '0.01' '11.40' '88' '0.68' '0.07' '0.69' '0.77' '9.90' '0.64' '13.20'\n",
            " '6.80' '0.28' '11.60' '0.91' '1.01' '0.23' '0.35' '50' '32' '0.83' '0.08']\n",
            "******************\n",
            "\n",
            "\n",
            "T3_measured\n",
            "['y' 'n']\n",
            "******************\n",
            "\n",
            "\n",
            "T3\n",
            "['0.60' '1.70' '0.20' '0.40' '1.20' '1.10' '1.30' '1.90' nan '0.80' '2.20'\n",
            " '1.50' '2.70' '2' '0.30' '2.10' '0.50' '0.70' '1' '1.40' '2.30' '2.40'\n",
            " '0.90' '1.80' '0' '2.80' '1.60' '6.70' '3.30' '3' '2.50' '2.60' '4'\n",
            " '9.80' '3.90' '3.40' '3.80' '4.50' '3.20' '3.70' '4.30' '2.90' '3.10'\n",
            " '3.50' '3.60' '6.60' '4.90' '8.90' '4.10' '5' '5.30' '7.60' '7.30' '4.20'\n",
            " '4.40' '5.10' '7' '0.10' '0.05' '4.70' '6.20' '5.50' '4.60' '6.10' '8.10'\n",
            " '5.20' '5.60' '4.80' '10.20' '8.60']\n",
            "******************\n",
            "\n",
            "\n",
            "TT4_measured\n",
            "['y' 'n']\n",
            "******************\n",
            "\n",
            "\n",
            "TT4\n",
            "['15' '19' '4' '6' '57' '27' '54' '34' '39' '7.60' '53' '38' '98' '44'\n",
            " '37' '81' '13' '17' '12' '50' '23' '14' '3.90' '52' '32' '30' '84' '10'\n",
            " '55' '24' '28' '11' '6.60' '31' '33' '41' '9' '78' '42' '8.10' '65' '16'\n",
            " '9.70' '46' '22' '61' '2.30' '21' '7.50' '18' '66' '25' '43' '2' '3' '58'\n",
            " '59' '71' '74' '56' '40' '20' '48' '230' '70' '4.10' '63' '5.30' '2.90'\n",
            " '62' '75' '68' '45' '47' '36' '80' '109' '8.60' '83' '82' '101' '76'\n",
            " '103' '112' '206' '110' '93' '79' '121' nan '107' '88' '187' '254' '115'\n",
            " '113' '260' '117' '164' '97' '64' '129' '111' '106' '95' '87' '105' '90'\n",
            " '67' '134' '35' '193' '143' '130' '108' '86' '96' '92' '99' '216' '152'\n",
            " '125' '138' '194' '91' '120' '102' '170' '126' '116' '140' '94' '159'\n",
            " '85' '210' '89' '151' '247' '139' '153' '178' '123' '137' '161' '7.30'\n",
            " '72' '202' '122' '124' '157' '118' '104' '135' '186' '241' '131' '119'\n",
            " '100' '220' '176' '136' '183' '155' '208' '199' '154' '169' '128' '235'\n",
            " '195' '267' '232' '197' '212' '149' '127' '245' '132' '162' '77' '142'\n",
            " '69' '173' '141' '156' '181' '189' '60' '114' '198' '147' '191' '177'\n",
            " '174' '207' '168' '73' '160' '145' '200' '182' '158' '203' '209' '217'\n",
            " '430' '213' '218' '163' '296' '167' '148' '166' '185' '248' '172' '144'\n",
            " '150' '165' '196' '308' '146' '426' '224' '29' '204' '201' '133' '180'\n",
            " '184' '450' '244' '301' '255' '252' '396' '223' '261' '250' '179' '219'\n",
            " '190' '51' '221' '171' '242' '275' '211' '49' '239' '205' '222' '256'\n",
            " '214' '282' '287' '253' '269' '175' '228' '333' '258' '236' '225' '263'\n",
            " '283' '359' '188' '240']\n",
            "******************\n",
            "\n",
            "\n",
            "T4U_measured\n",
            "['y' 'n']\n",
            "******************\n",
            "\n",
            "\n",
            "T4U\n",
            "['1.48' '1.13' '1' '1.04' '1.28' '1.19' '0.86' '1.05' '1.21' '1.02' '0.92'\n",
            " '1.29' '0.98' '1.08' '1.01' '1.18' '1.10' '1.27' '0.83' '1.11' '0.78'\n",
            " '1.39' '1.12' '0.93' '0.99' '0.90' '1.06' '0.68' '0.67' '1.14' '0.80'\n",
            " '0.96' '0.95' '1.46' '1.03' '0.97' '0.94' '1.09' '1.24' '1.23' '1.53'\n",
            " '1.26' '1.40' '1.17' '0.87' '0.61' '0.70' '1.07' '1.73' '1.45' '1.20'\n",
            " '0.89' '0.84' '0.91' '0.85' '1.35' '0.82' '1.50' '0.74' '1.71' '1.79'\n",
            " '0.73' '0.77' '1.25' nan '0.88' '0.72' '0.31' '0' '0.79' '0.81' '0.71'\n",
            " '1.93' '1.32' '0.66' '1.68' '1.42' '1.70' '1.83' '1.41' '1.34' '1.65'\n",
            " '1.22' '0.75' '1.74' '0.69' '1.51' '0.76' '1.16' '0.35' '0.62' '0.54'\n",
            " '1.36' '1.33' '1.30' '0.48' '1.59' '1.75' '1.86' '1.38' '1.43' '1.62'\n",
            " '2.01' '0.30' '1.31' '1.15' '1.57' '0.55' '1.66' '0.52' '1.97' '1.47'\n",
            " '0.36' '1.88' '1.55' '0.34' '1.67' '0.58' '0.60' '0.59' '1.37' '1.76'\n",
            " '0.64' '1.80' '0.41' '0.20' '1.77' '0.33' '1.54' '0.46' '0.32' '1.44'\n",
            " '1.56' '0.56' '1.52' '2.03' '0.65' '0.63' '1.96' '0.53' '0.47' '0.29'\n",
            " '2.21' '1.69' '1.64' '1.49' '1.72' '1.58' '0.57' '1.61' '0.28' '2' '1.63'\n",
            " '0.27' '1.94' '0.50' '0.49' '0.40' '0.38']\n",
            "******************\n",
            "\n",
            "\n",
            "FTI_measured\n",
            "['y' 'n']\n",
            "******************\n",
            "\n",
            "\n",
            "FTI\n",
            "['10' '17' '0' '6' '44' '23' '63' '32' '7.50' '61' '41' '76' '45' '34'\n",
            " '81' '11' '16' '46' '22' '12' '5' '47' '29' '37' '60' '8.40' '8.50' '24'\n",
            " '28' '7' '49' '36' '15' '9' '80' '53' '7.20' '68' '6.60' '48' '21' '14'\n",
            " '2' '20' '1.40' '56' '3' '51' '13' '43' '78' '52' '64' '26' '35' '31'\n",
            " '133' '3.40' '54' '8.90' '57' '5.50' '58' '55' '2.80' '66' '4' '40' '50'\n",
            " '8.70' '87' '89' '112' '123' '99' '92' '104' '69' '196' '107' '106' '74'\n",
            " '97' nan '122' '84' '114' '124' '241' '119' '120' '136' '85' '127' '839'\n",
            " '137' '197' '96' '77' '108' '82' '72' '94' '91' '240' '121' '109' '79'\n",
            " '100' '98' '73' '117' '165' '103' '88' '101' '126' '132' '128' '143'\n",
            " '152' '141' '186' '113' '102' '125' '93' '105' '159' '188' '71' '149'\n",
            " '116' '83' '176' '161' '86' '140' '111' '158' '115' '171' '90' '95' '70'\n",
            " '135' '134' '178' '110' '170' '205' '695' '155' '118' '741' '131' '129'\n",
            " '142' '153' '75' '254' '246' '139' '185' '157' '147' '164' '130' '222'\n",
            " '650' '174' '182' '144' '169' '257' '145' '345' '180' '167' '151' '154'\n",
            " '150' '219' '228' '65' '187' '166' '195' '208' '138' '33' '173' '146'\n",
            " '211' '181' '190' '247' '221' '395' '216' '212' '148' '162' '220' '370'\n",
            " '450' '160' '59' '189' '203' '168' '179' '264' '470' '184' '163' '67'\n",
            " '213' '354' '292' '359' '172' '156' '334' '177' '214' '194' '192' '215'\n",
            " '217' '271' '250' '244' '308' '881' '258' '316' '200' '711' '256' '232'\n",
            " '202' '39' '248' '237' '259' '445' '19' '852' '42' '235' '634' '283'\n",
            " '305' '204' '229' '332' '550' '249' '263' '615' '266' '198' '175' '209'\n",
            " '299' '193' '227' '223' '337' '210' '272' '702' '218' '239' '355' '482'\n",
            " '347' '485' '612' '428']\n",
            "******************\n",
            "\n",
            "\n",
            "TBG_measured\n",
            "['n' 'y']\n",
            "******************\n",
            "\n",
            "\n",
            "TBG\n",
            "[nan '28' '34' '0' '19' '30' '25' '48' '39' '31' '16' '21' '37' '40' '27'\n",
            " '3.10' '38' '108' '20' '36' '17' '23' '35' '32' '63' '9.30' '15' '26'\n",
            " '33' '41' '110' '22' '43' '53' '80' '47' '29' '13' '24' '18' '45' '86'\n",
            " '50' '8.40' '52' '11' '12' '14' '65' '7.30' '8.50' '69' '122']\n",
            "******************\n",
            "\n",
            "\n"
          ],
          "name": "stdout"
        }
      ]
    },
    {
      "cell_type": "code",
      "metadata": {
        "id": "cvsU59MxQLwn",
        "colab_type": "code",
        "outputId": "3b903e53-f4f0-42d1-dd9a-b1d591ca0596",
        "colab": {
          "base_uri": "https://localhost:8080/",
          "height": 470
        }
      },
      "source": [
        "# changing the the data types of the dataset\n",
        "category =['status','sex', 'on_thyroxine', 'query_on_thyroxine',\n",
        "       'on_antithyroid_medication', 'thyroid_surgery', 'query_hypothyroid',\n",
        "       'query_hyperthyroid', 'pregnant', 'sick', 'tumor', 'lithium', 'goitre',\n",
        "       'TSH_measured', 'T3_measured', 'TT4_measured','T4U_measured','FTI_measured','TBG_measured']\n",
        "for i in nairobi_hosp_data.columns:\n",
        "  if i in category:\n",
        "    nairobi_hosp_data[i] =nairobi_hosp_data[i].astype('category')\n",
        "  else:\n",
        "    nairobi_hosp_data[i] = pd.to_numeric(nairobi_hosp_data[i])\n",
        "nairobi_hosp_data.dtypes"
      ],
      "execution_count": 161,
      "outputs": [
        {
          "output_type": "execute_result",
          "data": {
            "text/plain": [
              "status                       category\n",
              "age                           float64\n",
              "sex                          category\n",
              "on_thyroxine                 category\n",
              "query_on_thyroxine           category\n",
              "on_antithyroid_medication    category\n",
              "thyroid_surgery              category\n",
              "query_hypothyroid            category\n",
              "query_hyperthyroid           category\n",
              "pregnant                     category\n",
              "sick                         category\n",
              "tumor                        category\n",
              "lithium                      category\n",
              "goitre                       category\n",
              "TSH_measured                 category\n",
              "TSH                           float64\n",
              "T3_measured                  category\n",
              "T3                            float64\n",
              "TT4_measured                 category\n",
              "TT4                           float64\n",
              "T4U_measured                 category\n",
              "T4U                           float64\n",
              "FTI_measured                 category\n",
              "FTI                           float64\n",
              "TBG_measured                 category\n",
              "TBG                           float64\n",
              "dtype: object"
            ]
          },
          "metadata": {
            "tags": []
          },
          "execution_count": 161
        }
      ]
    },
    {
      "cell_type": "code",
      "metadata": {
        "id": "JXdpDxqnSBLf",
        "colab_type": "code",
        "outputId": "0794afbe-84ee-49d4-d42e-e680d3041b0b",
        "colab": {
          "base_uri": "https://localhost:8080/",
          "height": 470
        }
      },
      "source": [
        "# Dealing with missing values\n",
        "# For age and sex, i will fill with most common age and sex respectively which use of mode\n",
        "nairobi_hosp_data['age'] = nairobi_hosp_data['age'].fillna(nairobi_hosp_data['age'].mode()[0])\n",
        "\n",
        "nairobi_hosp_data['sex'] = nairobi_hosp_data['sex'].fillna(nairobi_hosp_data['sex'].mode()[0])\n",
        "nairobi_hosp_data.isnull().sum()"
      ],
      "execution_count": 162,
      "outputs": [
        {
          "output_type": "execute_result",
          "data": {
            "text/plain": [
              "status                          0\n",
              "age                             0\n",
              "sex                             0\n",
              "on_thyroxine                    0\n",
              "query_on_thyroxine              0\n",
              "on_antithyroid_medication       0\n",
              "thyroid_surgery                 0\n",
              "query_hypothyroid               0\n",
              "query_hyperthyroid              0\n",
              "pregnant                        0\n",
              "sick                            0\n",
              "tumor                           0\n",
              "lithium                         0\n",
              "goitre                          0\n",
              "TSH_measured                    0\n",
              "TSH                           468\n",
              "T3_measured                     0\n",
              "T3                            695\n",
              "TT4_measured                    0\n",
              "TT4                           249\n",
              "T4U_measured                    0\n",
              "T4U                           248\n",
              "FTI_measured                    0\n",
              "FTI                           247\n",
              "TBG_measured                    0\n",
              "TBG                          2903\n",
              "dtype: int64"
            ]
          },
          "metadata": {
            "tags": []
          },
          "execution_count": 162
        }
      ]
    },
    {
      "cell_type": "code",
      "metadata": {
        "id": "c_qAxsfgu2RS",
        "colab_type": "code",
        "colab": {}
      },
      "source": [
        "# Filling the null valued that were not measured with 0\n",
        "unit_df = ['TSH','T3','TT4','T4U','FTI','TBG']\n",
        "\n",
        "for i in unit_df:\n",
        "  nairobi_hosp_data[i].fillna(value = 0, inplace=True)"
      ],
      "execution_count": 0,
      "outputs": []
    },
    {
      "cell_type": "code",
      "metadata": {
        "id": "Pk34dhywEmGD",
        "colab_type": "code",
        "outputId": "5b7b6010-a8c9-4706-e4ec-8baab1585ff7",
        "colab": {
          "base_uri": "https://localhost:8080/",
          "height": 470
        }
      },
      "source": [
        "# Due to the excistence of ?  we shall replace it with null values\n",
        "nairobi_hosp_data = nairobi_hosp_data.replace(\"?\",np.nan)\n",
        "nairobi_hosp_data.isnull().sum()"
      ],
      "execution_count": 164,
      "outputs": [
        {
          "output_type": "execute_result",
          "data": {
            "text/plain": [
              "status                       0\n",
              "age                          0\n",
              "sex                          0\n",
              "on_thyroxine                 0\n",
              "query_on_thyroxine           0\n",
              "on_antithyroid_medication    0\n",
              "thyroid_surgery              0\n",
              "query_hypothyroid            0\n",
              "query_hyperthyroid           0\n",
              "pregnant                     0\n",
              "sick                         0\n",
              "tumor                        0\n",
              "lithium                      0\n",
              "goitre                       0\n",
              "TSH_measured                 0\n",
              "TSH                          0\n",
              "T3_measured                  0\n",
              "T3                           0\n",
              "TT4_measured                 0\n",
              "TT4                          0\n",
              "T4U_measured                 0\n",
              "T4U                          0\n",
              "FTI_measured                 0\n",
              "FTI                          0\n",
              "TBG_measured                 0\n",
              "TBG                          0\n",
              "dtype: int64"
            ]
          },
          "metadata": {
            "tags": []
          },
          "execution_count": 164
        }
      ]
    },
    {
      "cell_type": "code",
      "metadata": {
        "id": "akvB1wqqR_oG",
        "colab_type": "code",
        "outputId": "a7010c44-e7e5-4303-dcb4-fb8e00298747",
        "colab": {
          "base_uri": "https://localhost:8080/",
          "height": 420
        }
      },
      "source": [
        "# checking where the null values lie based on whether they were measured or not\n",
        "\n",
        "measured = ['TSH_measured','T3_measured','TT4_measured','T4U_measured','FTI_measured','TBG_measured']\n",
        "unit_data= ['TSH','T3','TT4','T4U','FTI','TBG']\n",
        "\n",
        "for i,j in zip(measured,unit): \n",
        "  print(nairobi_hosp_data.groupby(i)[j].mean())"
      ],
      "execution_count": 165,
      "outputs": [
        {
          "output_type": "stream",
          "text": [
            "TSH_measured\n",
            "n    0.00000\n",
            "y    5.92318\n",
            "Name: TSH, dtype: float64\n",
            "T3_measured\n",
            "n    0.000000\n",
            "y    1.939749\n",
            "Name: T3, dtype: float64\n",
            "TT4_measured\n",
            "n      0.00\n",
            "y    108.85\n",
            "Name: TT4, dtype: float64\n",
            "T4U_measured\n",
            "n    0.000000\n",
            "y    0.978199\n",
            "Name: T4U, dtype: float64\n",
            "FTI_measured\n",
            "n      0.000000\n",
            "y    115.397771\n",
            "Name: FTI, dtype: float64\n",
            "TBG_measured\n",
            "n     0.000000\n",
            "y    31.283077\n",
            "Name: TBG, dtype: float64\n"
          ],
          "name": "stdout"
        }
      ]
    },
    {
      "cell_type": "markdown",
      "metadata": {
        "id": "j2xvHOb6ST-T",
        "colab_type": "text"
      },
      "source": [
        "Null values are found when there is no specific measurement at a particular test hence we fill the null values with zero"
      ]
    },
    {
      "cell_type": "code",
      "metadata": {
        "id": "1SCthDZGSSCx",
        "colab_type": "code",
        "colab": {}
      },
      "source": [
        "#Filling the null valued that were not measured with 0\n",
        " units_data = ['TSH','T3','TT4','T4U','FTI','TBG']\n",
        "\n",
        "for i in units_dataframe:\n",
        "  nairobi_hosp_data[i].fillna(value = 0, inplace=True)"
      ],
      "execution_count": 0,
      "outputs": []
    },
    {
      "cell_type": "code",
      "metadata": {
        "id": "SwvwqL687uaR",
        "colab_type": "code",
        "outputId": "c2697917-42b7-4272-c07f-a74a25d4af9c",
        "colab": {
          "base_uri": "https://localhost:8080/",
          "height": 34
        }
      },
      "source": [
        "# Checking for duplicates\n",
        "nairobi_hosp_data.duplicated().any()"
      ],
      "execution_count": 167,
      "outputs": [
        {
          "output_type": "execute_result",
          "data": {
            "text/plain": [
              "True"
            ]
          },
          "metadata": {
            "tags": []
          },
          "execution_count": 167
        }
      ]
    },
    {
      "cell_type": "code",
      "metadata": {
        "id": "qMhqbAzM74cY",
        "colab_type": "code",
        "outputId": "8030ce46-3f32-4b51-9b42-54f26a96a1c2",
        "colab": {
          "base_uri": "https://localhost:8080/",
          "height": 34
        }
      },
      "source": [
        "# Dropping the duplicates\n",
        "\n",
        "nairobi_hosp_data.drop_duplicates(inplace=True)\n",
        "\n",
        "\n",
        "# Checking that the duplicates have actualy been dropped\n",
        "\n",
        "nairobi_hosp_data.duplicated().any()"
      ],
      "execution_count": 168,
      "outputs": [
        {
          "output_type": "execute_result",
          "data": {
            "text/plain": [
              "False"
            ]
          },
          "metadata": {
            "tags": []
          },
          "execution_count": 168
        }
      ]
    },
    {
      "cell_type": "code",
      "metadata": {
        "id": "DqcEm077vNMk",
        "colab_type": "code",
        "outputId": "56ddbb8c-4179-41f0-e4fd-5167c8b08917",
        "colab": {
          "base_uri": "https://localhost:8080/",
          "height": 1000
        }
      },
      "source": [
        "# Checking the relationship among all the variables\n",
        "\n",
        "sns.pairplot(nairobi_hosp_data)"
      ],
      "execution_count": 0,
      "outputs": [
        {
          "output_type": "execute_result",
          "data": {
            "text/plain": [
              "<seaborn.axisgrid.PairGrid at 0x7f75e6f362b0>"
            ]
          },
          "metadata": {
            "tags": []
          },
          "execution_count": 128
        },
        {
          "output_type": "display_data",
          "data": {
            "image/png": "[encoded data removed]",
            "text/plain": [
              "<Figure size 1260x1260 with 56 Axes>"
            ]
          },
          "metadata": {
            "tags": []
          }
        }
      ]
    },
    {
      "cell_type": "code",
      "metadata": {
        "id": "GM-mxthK67NZ",
        "colab_type": "code",
        "colab": {}
      },
      "source": [
        "#Importing matplotlib library for plotting purposes. \n",
        "import matplotlib.pyplot as plt\n",
        "%matplotlib inline"
      ],
      "execution_count": 0,
      "outputs": []
    },
    {
      "cell_type": "code",
      "metadata": {
        "id": "eBDPC0Lfv6dJ",
        "colab_type": "code",
        "colab": {}
      },
      "source": [
        "# Checking the relationship between T4U and TBG\n",
        "sns.lmplot(x='T4U',y='TBG',hue='status',data=nairobi_hosp_data,palette=dict(hypothyroid='yellow',negative='red'),fit_reg=False)\n",
        "plt.title(\"Scatter of T4U against TBG\",color=\"blue\",fontsize=15)\n",
        "plt.xlabel(\"Scatter of T4U\" ,fontsize=15)\n",
        "plt.ylabel(\"Scatter of TBG\" ,fontsize=15)\n",
        "plt.show()"
      ],
      "execution_count": 0,
      "outputs": []
    },
    {
      "cell_type": "code",
      "metadata": {
        "id": "emjOFzEo8LZo",
        "colab_type": "code",
        "outputId": "6d6fa0f7-d408-49f5-e8fb-c2dbce91483f",
        "colab": {
          "base_uri": "https://localhost:8080/",
          "height": 389
        }
      },
      "source": [
        "# Checking the relationship between TBG and T3\n",
        "sns.lmplot(x='T3' ,y='TBG',hue='status',data=nairobi_hosp_data,palette=dict(hypothyroid='blue',negative='magenta'),fit_reg=False)\n",
        "plt.title(\"Scatter of T3 against TBG\",color=\"yellow\",fontsize=15)\n",
        "plt.xlabel(\"Scatter of T3\" ,fontsize=15)\n",
        "plt.ylabel(\"Scatter of TBG\" ,fontsize=15)\n",
        "plt.show()"
      ],
      "execution_count": 0,
      "outputs": [
        {
          "output_type": "display_data",
          "data": {
            "image/png": "[encoded data removed]",
            "text/plain": [
              "<Figure size 456x360 with 1 Axes>"
            ]
          },
          "metadata": {
            "tags": []
          }
        }
      ]
    },
    {
      "cell_type": "code",
      "metadata": {
        "id": "aWGySdBc8ta4",
        "colab_type": "code",
        "outputId": "eb971ac1-a03a-4c60-a2e1-1749d87ca6c3",
        "colab": {
          "base_uri": "https://localhost:8080/",
          "height": 323
        }
      },
      "source": [
        "# Getting the relationship between variables in numeric values using a heatmap\n",
        "#\n",
        "# Correlation heatmap of the numerical variables \n",
        "corr  =nairobi_hosp_data.corr()\n",
        "\n",
        "plt.figure(figsize = (8,5))\n",
        "heatmap = np.zeros_like(nairobi_hosp_data.corr(), dtype=np.bool)\n",
        "heatmap[np.triu_indices_from(heatmap)] = True\n",
        "sns.heatmap(nairobi_hosp_data.corr(), annot=True, mask=heatmap)\n",
        "plt.show()"
      ],
      "execution_count": 0,
      "outputs": [
        {
          "output_type": "display_data",
          "data": {
            "image/png": "[encoded data removed]",
            "text/plain": [
              "<Figure size 576x360 with 2 Axes>"
            ]
          },
          "metadata": {
            "tags": []
          }
        }
      ]
    },
    {
      "cell_type": "code",
      "metadata": {
        "id": "E4dewFAW9MzG",
        "colab_type": "code",
        "outputId": "5066924a-84fa-4e66-f16d-9f8d3aa4ba7e",
        "colab": {
          "base_uri": "https://localhost:8080/",
          "height": 283
        }
      },
      "source": [
        "# Visualizing the target variable\n",
        "target  = nairobi_hosp_data.groupby('status')['status'].count()\n",
        "sns.barplot(target.index,target.values)\n",
        "plt.show()"
      ],
      "execution_count": 0,
      "outputs": [
        {
          "output_type": "display_data",
          "data": {
            "image/png": "[encoded data removed]",
            "text/plain": [
              "<Figure size 432x288 with 1 Axes>"
            ]
          },
          "metadata": {
            "tags": []
          }
        }
      ]
    },
    {
      "cell_type": "markdown",
      "metadata": {
        "id": "_ly437jx9uhB",
        "colab_type": "text"
      },
      "source": [
        "The dataset is highly imbalanced."
      ]
    },
    {
      "cell_type": "markdown",
      "metadata": {
        "id": "cp1griugwIpu",
        "colab_type": "text"
      },
      "source": [
        "#STANDARDIZING AND MODELLING."
      ]
    },
    {
      "cell_type": "code",
      "metadata": {
        "id": "DFu1HSOhy_v1",
        "colab_type": "code",
        "colab": {}
      },
      "source": [
        "from sklearn.preprocessing import StandardScaler,robust_scale,minmax_scale"
      ],
      "execution_count": 0,
      "outputs": []
    },
    {
      "cell_type": "code",
      "metadata": {
        "id": "5Pe8N_phw_2p",
        "colab_type": "code",
        "colab": {}
      },
      "source": [
        "# Splitting the dataset into target and feature set\n",
        "# Making categorical data into dummies\n",
        "\n",
        "x = nairobi_hosp_data.drop('status',axis=1)\n",
        "X = pd.get_dummies(x)\n",
        "\n",
        "y = nairobi_hosp_data['status']\n",
        "y =pd.get_dummies(y,drop_first=True)"
      ],
      "execution_count": 0,
      "outputs": []
    },
    {
      "cell_type": "code",
      "metadata": {
        "id": "MEgQD3UTyLxd",
        "colab_type": "code",
        "colab": {}
      },
      "source": [
        "#To split the dataset for training and testing/\n",
        "\n",
        "x_train,x_test,y_train,y_test = train_test_split(X,y,random_state=0,test_size=0.2)"
      ],
      "execution_count": 0,
      "outputs": []
    },
    {
      "cell_type": "code",
      "metadata": {
        "id": "9HyM5bRGyeqR",
        "colab_type": "code",
        "colab": {}
      },
      "source": [
        "# Implementing Standard Scaler to nomalize the data\n",
        "sc = StandardScaler()\n",
        "x_train = sc.fit_transform(x_train)\n",
        "x_test = sc.transform(x_test)"
      ],
      "execution_count": 0,
      "outputs": []
    },
    {
      "cell_type": "markdown",
      "metadata": {
        "id": "vN3rQgkezOuw",
        "colab_type": "text"
      },
      "source": [
        "#SUPPORT VECTOR MACHINE MODELLING."
      ]
    },
    {
      "cell_type": "code",
      "metadata": {
        "id": "89p60w0K0Gvd",
        "colab_type": "code",
        "colab": {}
      },
      "source": [
        "#Importing support vector machine environments.\n",
        "from sklearn.metrics import accuracy_score,mean_squared_error,confusion_matrix,r2_score,precision_score,recall_score,f1_score\n",
        "import warnings"
      ],
      "execution_count": 0,
      "outputs": []
    },
    {
      "cell_type": "code",
      "metadata": {
        "id": "JSsFyt3FwMty",
        "colab_type": "code",
        "colab": {}
      },
      "source": [
        "# implementing support vector machines with a linear kernel\n",
        "svcl = SVC(kernel='linear')\n",
        "svcl.fit(x_train,y_train)\n",
        "y_pred = svcl.predict(x_test)\n",
        "print(\"accuracy_score\",accuracy_score(y_test,y_pred))\n",
        "print(\"precision_score\",precision_score(y_test,y_pred))\n",
        "print(\"recall_score\",recall_score(y_test,y_pred))\n",
        "print(\"f1_score\",f1_score(y_test,y_pred))"
      ],
      "execution_count": 0,
      "outputs": []
    },
    {
      "cell_type": "code",
      "metadata": {
        "id": "5N3IkrQAyJLl",
        "colab_type": "code",
        "colab": {}
      },
      "source": [
        "# implementing support vector machines with a polynomial kernel\n",
        "svcp = SVC(kernel='poly')\n",
        "svcp.fit(x_train,y_train)\n",
        "y_pred = svcp.predict(x_test)\n",
        "print(\"accuracy_score\",accuracy_score(y_test,y_pred))\n",
        "print(\"precision_score\",precision_score(y_test,y_pred))\n",
        "print(\"recall_score\",recall_score(y_test,y_pred))\n",
        "print(\"f1_score\",f1_score(y_test,y_pred))"
      ],
      "execution_count": 0,
      "outputs": []
    },
    {
      "cell_type": "code",
      "metadata": {
        "id": "uL-blOm40ts7",
        "colab_type": "code",
        "colab": {}
      },
      "source": [
        "#Employing support vector machines with a sigmoid kernel\n",
        "svcs = SVC(kernel='sigmoid')\n",
        "svcs.fit(x_train,y_train)\n",
        "y_pred = svcs.predict(x_test)\n",
        "print(\"accuracy_score\",accuracy_score(y_test,y_pred))\n",
        "print(\"precision_score\",precision_score(y_test,y_pred))\n",
        "print(\"recall_score\",recall_score(y_test,y_pred))\n",
        "print(\"f1_score\",f1_score(y_test,y_pred))"
      ],
      "execution_count": 0,
      "outputs": []
    },
    {
      "cell_type": "code",
      "metadata": {
        "id": "3Yqf33fX-a9m",
        "colab_type": "code",
        "outputId": "6e11db3d-392a-41dd-9b38-e490c007c419",
        "colab": {
          "base_uri": "https://localhost:8080/",
          "height": 84
        }
      },
      "source": [
        "#Employing support vector machines with a sigmoid kernel\n",
        "svcs = SVC(kernel='sigmoid')\n",
        "svcs.fit(x_train,y_train)\n",
        "y_pred = svcs.predict(x_test)\n",
        "print(\"accuracy_score\",accuracy_score(y_test,y_pred))\n",
        "print(\"precision_score\",precision_score(y_test,y_pred))\n",
        "print(\"recall_score\",recall_score(y_test,y_pred))\n",
        "print(\"f1_score\",f1_score(y_test,y_pred))"
      ],
      "execution_count": 0,
      "outputs": [
        {
          "output_type": "stream",
          "text": [
            "accuracy_score 0.9078838174273859\n",
            "precision_score 0.9132653061224489\n",
            "recall_score 0.8994974874371859\n",
            "f1_score 0.9063291139240507\n"
          ],
          "name": "stdout"
        }
      ]
    },
    {
      "cell_type": "code",
      "metadata": {
        "id": "_aS0B3k-KGib",
        "colab_type": "code",
        "outputId": "98c99dca-aca0-49b4-e523-0a1268ff3e74",
        "colab": {
          "base_uri": "https://localhost:8080/",
          "height": 138
        }
      },
      "source": [
        "# Now we are implementing Gradient Boosting\n",
        "grad_f = GradientBoostingClassifier()\n",
        "grad_f.fit(x_train,y_train)\n",
        "y_pred = grad_f.predict(x_test)\n",
        "print(\"accuracy_score\",accuracy_score(y_test,y_pred))\n",
        "print(\"precision_score\",precision_score(y_test,y_pred))\n",
        "print(\"recall_score\",recall_score(y_test,y_pred))\n",
        "print(\"f1_score\",f1_score(y_test,y_pred))"
      ],
      "execution_count": 178,
      "outputs": [
        {
          "output_type": "stream",
          "text": [
            "/usr/local/lib/python3.6/dist-packages/sklearn/ensemble/gradient_boosting.py:1450: DataConversionWarning: A column-vector y was passed when a 1d array was expected. Please change the shape of y to (n_samples, ), for example using ravel().\n",
            "  y = column_or_1d(y, warn=True)\n"
          ],
          "name": "stderr"
        },
        {
          "output_type": "stream",
          "text": [
            "accuracy_score 0.993517017828201\n",
            "precision_score 0.9966216216216216\n",
            "recall_score 0.9966216216216216\n",
            "f1_score 0.9966216216216216\n"
          ],
          "name": "stdout"
        }
      ]
    },
    {
      "cell_type": "markdown",
      "metadata": {
        "id": "7YQZtCtMofvH",
        "colab_type": "text"
      },
      "source": [
        "All the scores are about 99% meaning it is a good model"
      ]
    },
    {
      "cell_type": "code",
      "metadata": {
        "id": "57Bw20cH-xhb",
        "colab_type": "code",
        "colab": {}
      },
      "source": [
        "# # Having in mind that rbf kernel is the best parameter lets look at how to optimize other parameters like c and gamma\n",
        "param ={\n",
        "        \"C\":np.arange(1,100,1),\n",
        "        \"gamma\" : np.arange(2**-5,2**5,0.01)\n",
        " }\n",
        "kfold = KFold(n_splits=10,random_state=0)\n",
        " rsc = RandomizedSearchCV(svcr,param_distributions=param,cv=kfold,verbose=0,random_state=0)\n",
        "  rsc.fit(x_train,y_train)\n",
        "  print(rsc.best_params_)\n",
        "   print(rsc.best_score_)\n",
        "  {'gamma': 4.251250000000001, 'C': 96}\n",
        "   0.9388535031847134"
      ],
      "execution_count": 0,
      "outputs": []
    },
    {
      "cell_type": "markdown",
      "metadata": {
        "id": "J_ceEg2U1JWl",
        "colab_type": "text"
      },
      "source": [
        "#DECISION TREE IMPLEMENTATION.\n",
        "#Random Forest."
      ]
    },
    {
      "cell_type": "code",
      "metadata": {
        "id": "0usqRIlarYSL",
        "colab_type": "code",
        "colab": {}
      },
      "source": [
        "# Splitting the dataset into target and feature set\n",
        "# Making categorical data into dummies\n",
        "\n",
        "x = nairobi_hosp_data.drop('status',axis=1)\n",
        "X = pd.get_dummies(x)\n",
        "\n",
        "y = nairobi_hosp_data['status']\n",
        "y =pd.get_dummies(y,drop_first=True)"
      ],
      "execution_count": 0,
      "outputs": []
    },
    {
      "cell_type": "code",
      "metadata": {
        "id": "3mzdG5Bc2mlr",
        "colab_type": "code",
        "colab": {}
      },
      "source": [
        "from sklearn.ensemble import RandomForestClassifier,RandomForestRegressor,AdaBoostClassifier,AdaBoostRegressor,gradient_boosting"
      ],
      "execution_count": 0,
      "outputs": []
    },
    {
      "cell_type": "code",
      "metadata": {
        "id": "SQHPhr8X1X4o",
        "colab_type": "code",
        "colab": {
          "base_uri": "https://localhost:8080/",
          "height": 171
        },
        "outputId": "a4f1acf9-8b80-4791-f8bd-df0120814cb1"
      },
      "source": [
        "#Creating a random classifiers\n",
        "ran_f = RandomForestClassifier()\n",
        "ran_f.fit(x_train,y_train)\n",
        "y_pred = ran_f.predict(x_test)\n",
        "print(\"accuracy_score\",accuracy_score(y_test,y_pred))\n",
        "print(\"precision_score\",precision_score(y_test,y_pred))\n",
        "print(\"recall_score\",recall_score(y_test,y_pred))\n",
        "print(\"f1_score\",f1_score(y_test,y_pred))"
      ],
      "execution_count": 190,
      "outputs": [
        {
          "output_type": "stream",
          "text": [
            "accuracy_score 0.9886547811993517\n",
            "precision_score 0.9915966386554622\n",
            "recall_score 0.9966216216216216\n",
            "f1_score 0.9941027801179445\n"
          ],
          "name": "stdout"
        },
        {
          "output_type": "stream",
          "text": [
            "/usr/local/lib/python3.6/dist-packages/sklearn/ensemble/forest.py:245: FutureWarning: The default value of n_estimators will change from 10 in version 0.20 to 100 in 0.22.\n",
            "  \"10 in version 0.20 to 100 in 0.22.\", FutureWarning)\n",
            "/usr/local/lib/python3.6/dist-packages/ipykernel_launcher.py:2: DataConversionWarning: A column-vector y was passed when a 1d array was expected. Please change the shape of y to (n_samples,), for example using ravel().\n",
            "  \n"
          ],
          "name": "stderr"
        }
      ]
    },
    {
      "cell_type": "markdown",
      "metadata": {
        "id": "b0E0QQeK22Qq",
        "colab_type": "text"
      },
      "source": [
        "#Parameter Tuning."
      ]
    },
    {
      "cell_type": "code",
      "metadata": {
        "id": "2P-9o5el3aR_",
        "colab_type": "code",
        "colab": {}
      },
      "source": [
        "#Importing model selection.\n",
        "from sklearn.model_selection import train_test_split,RandomizedSearchCV,KFold"
      ],
      "execution_count": 0,
      "outputs": []
    },
    {
      "cell_type": "code",
      "metadata": {
        "id": "ILU8YlFY3BAo",
        "colab_type": "code",
        "colab": {}
      },
      "source": [
        "#Tuning to get the best parameters of randomforest\n",
        "param ={\n",
        "    \"criterion\":['gini','entropy'],\n",
        "    \"min_samples_split\" : np.arange(1,100,1),\n",
        "    \"n_estimators\":np.arange(1,100,1),\n",
        "    \"max_depth\":np.arange(1,10,1),\n",
        "    \"n_jobs\":np.arange(1,100,1)\n",
        "}\n",
        "kfold = KFold(n_splits=10,random_state=0)\n",
        "rsc = RandomizedSearchCV(ran_f,param,cv=kfold,verbose=0,random_state=0)\n",
        "rsc.fit(x_train,y_train)\n",
        "print(rsc.best_params_)\n",
        "print(rsc.best_score_)"
      ],
      "execution_count": 0,
      "outputs": []
    },
    {
      "cell_type": "markdown",
      "metadata": {
        "id": "1QEcNsP5suLt",
        "colab_type": "text"
      },
      "source": [
        "# Feature Importance Determination."
      ]
    },
    {
      "cell_type": "code",
      "metadata": {
        "id": "XUJ-Sbd5ugWm",
        "colab_type": "code",
        "colab": {
          "base_uri": "https://localhost:8080/",
          "height": 437
        },
        "outputId": "c4a6d30f-fde5-45cd-e3db-f2665a1174dc"
      },
      "source": [
        "# Get numerical feature importances\n",
        "importances = list(ran_f.feature_importances_)\n",
        "\n",
        "# List of tuples with variable and importance\n",
        "feature_importances = [(feature, round(importance, 2)) for feature, importance in zip(feature_list, importances)]\n",
        "\n",
        "# Sort the feature importances by most important first\n",
        "feature_importances = sorted(feature_importances, key = lambda x: x[1], reverse = True)\n",
        "\n",
        "# Print out the feature and importances \n",
        "[print('Variable: {:20} Importance: {}'.format(*pair)) for pair in feature_importances];"
      ],
      "execution_count": 193,
      "outputs": [
        {
          "output_type": "stream",
          "text": [
            "Variable: thyroid_surgery      Importance: 0.3\n",
            "Variable: sex                  Importance: 0.24\n",
            "Variable: query_on_thyroxine   Importance: 0.18\n",
            "Variable: age                  Importance: 0.04\n",
            "Variable: on_thyroxine         Importance: 0.04\n",
            "Variable: on_antithyroid_medication Importance: 0.04\n",
            "Variable: query_hyperthyroid   Importance: 0.01\n",
            "Variable: TSH_measured         Importance: 0.01\n",
            "Variable: TT4_measured         Importance: 0.01\n",
            "Variable: TT4                  Importance: 0.01\n",
            "Variable: query_hypothyroid    Importance: 0.0\n",
            "Variable: pregnant             Importance: 0.0\n",
            "Variable: sick                 Importance: 0.0\n",
            "Variable: tumor                Importance: 0.0\n",
            "Variable: lithium              Importance: 0.0\n",
            "Variable: goitre               Importance: 0.0\n",
            "Variable: TSH                  Importance: 0.0\n",
            "Variable: T3_measured          Importance: 0.0\n",
            "Variable: T3                   Importance: 0.0\n",
            "Variable: T4U_measured         Importance: 0.0\n",
            "Variable: T4U                  Importance: 0.0\n",
            "Variable: FTI_measured         Importance: 0.0\n",
            "Variable: FTI                  Importance: 0.0\n",
            "Variable: TBG_measured         Importance: 0.0\n",
            "Variable: TBG                  Importance: 0.0\n"
          ],
          "name": "stdout"
        }
      ]
    },
    {
      "cell_type": "code",
      "metadata": {
        "id": "tekpuizPvJHt",
        "colab_type": "code",
        "colab": {
          "base_uri": "https://localhost:8080/",
          "height": 793
        },
        "outputId": "5734e6eb-c289-4280-9cd0-9768af407bf1"
      },
      "source": [
        "from collections import OrderedDict\n",
        "#To get the variables with the highest importance\n",
        "\n",
        "ran_clf = RandomForestClassifier(max_depth= 8,n_jobs= 83, min_samples_split= 87, criterion= 'gini',n_estimators= 49)\n",
        "ran_clf.fit(x_train,y_train)\n",
        "importance = ran_clf.feature_importances_\n",
        "names = X.columns\n",
        "dict1 = {}\n",
        "for i,j in zip(names,importance):\n",
        "  dict1[i] = j\n",
        "OrderedDict(sorted(dict1.items(),key =lambda x:x[1],reverse=True))"
      ],
      "execution_count": 196,
      "outputs": [
        {
          "output_type": "stream",
          "text": [
            "/usr/local/lib/python3.6/dist-packages/ipykernel_launcher.py:5: DataConversionWarning: A column-vector y was passed when a 1d array was expected. Please change the shape of y to (n_samples,), for example using ravel().\n",
            "  \"\"\"\n"
          ],
          "name": "stderr"
        },
        {
          "output_type": "execute_result",
          "data": {
            "text/plain": [
              "OrderedDict([('FTI', 0.30721000122698433),\n",
              "             ('TT4', 0.26302161523046214),\n",
              "             ('TSH', 0.21674169198164858),\n",
              "             ('T4U', 0.05842442933197151),\n",
              "             ('T3', 0.03342233519724624),\n",
              "             ('TBG_measured_y', 0.03043721835178707),\n",
              "             ('TSH_measured_y', 0.02337052920243058),\n",
              "             ('TT4_measured_y', 0.012596095562421649),\n",
              "             ('T3_measured_n', 0.012346624358896429),\n",
              "             ('T4U_measured_y', 0.00919538496826893),\n",
              "             ('FTI_measured_n', 0.0061314061639586625),\n",
              "             ('TSH_measured_n', 0.005005944823273004),\n",
              "             ('age', 0.004345717349914229),\n",
              "             ('TBG', 0.0029526303707405337),\n",
              "             ('T3_measured_y', 0.0021181537565391484),\n",
              "             ('thyroid_surgery_t', 0.0018095113714253729),\n",
              "             ('query_hypothyroid_f', 0.001793687239064581),\n",
              "             ('thyroid_surgery_f', 0.0017008148391261999),\n",
              "             ('TBG_measured_n', 0.0013058721279627578),\n",
              "             ('on_antithyroid_medication_t', 0.0007740262735891836),\n",
              "             ('query_hypothyroid_t', 0.000724704625106903),\n",
              "             ('goitre_f', 0.0005969932673415386),\n",
              "             ('on_thyroxine_t', 0.0005938300084430192),\n",
              "             ('TT4_measured_n', 0.0004871926102554725),\n",
              "             ('on_thyroxine_f', 0.0004774831982026777),\n",
              "             ('goitre_t', 0.00044037272137684803),\n",
              "             ('tumor_t', 0.0003300566130384469),\n",
              "             ('query_on_thyroxine_t', 0.00030962371869992897),\n",
              "             ('pregnant_f', 0.00029270556839700956),\n",
              "             ('sick_f', 0.00022158872822898552),\n",
              "             ('on_antithyroid_medication_f', 0.00020388463906116162),\n",
              "             ('T4U_measured_n', 0.0001353338971958285),\n",
              "             ('FTI_measured_y', 0.00012571266913436236),\n",
              "             ('sex_F', 0.0001185751301661234),\n",
              "             ('query_hyperthyroid_t', 5.9464323950820506e-05),\n",
              "             ('query_hyperthyroid_f', 5.02033056251662e-05),\n",
              "             ('tumor_f', 4.1244368976747485e-05),\n",
              "             ('sex_M', 3.0443575794158002e-05),\n",
              "             ('pregnant_t', 2.274409538829747e-05),\n",
              "             ('query_on_thyroxine_f', 2.220585261062784e-05),\n",
              "             ('sick_t', 1.194735529470003e-05),\n",
              "             ('lithium_f', 0.0),\n",
              "             ('lithium_t', 0.0)])"
            ]
          },
          "metadata": {
            "tags": []
          },
          "execution_count": 196
        }
      ]
    },
    {
      "cell_type": "code",
      "metadata": {
        "id": "mTSjIEvRzfbl",
        "colab_type": "code",
        "colab": {}
      },
      "source": [
        ""
      ],
      "execution_count": 0,
      "outputs": []
    },
    {
      "cell_type": "markdown",
      "metadata": {
        "id": "g9xjPIh_x4_3",
        "colab_type": "text"
      },
      "source": [
        "The most important feature is FTI and the least important feature is lithium_t"
      ]
    },
    {
      "cell_type": "code",
      "metadata": {
        "id": "sbLpObMEzi1U",
        "colab_type": "code",
        "colab": {}
      },
      "source": [
        "#we visualize using 50 trees\n",
        "dot_data = StringIO()\n",
        "# pick a specific tree from the forest\n",
        "tree = clf.estimators_[30]\n",
        "\n",
        "export_graphviz(tree, out_file=dot_data,  \n",
        "                filled=True, rounded=True,\n",
        "                special_characters=True,feature_names = X.columns)\n",
        "graph = pydotplus.graph_from_dot_data(dot_data.getvalue())  \n",
        "graph.write_png('Hyperthyroid.png')\n",
        "Image(graph.create_png())"
      ],
      "execution_count": 0,
      "outputs": []
    },
    {
      "cell_type": "markdown",
      "metadata": {
        "id": "8hwCvi605-mj",
        "colab_type": "text"
      },
      "source": [
        "#Boosting."
      ]
    },
    {
      "cell_type": "code",
      "metadata": {
        "id": "YAPlyUqbpK7_",
        "colab_type": "code",
        "colab": {
          "base_uri": "https://localhost:8080/",
          "height": 1000
        },
        "outputId": "3d39a938-5656-46be-af50-251bc3f5838c"
      },
      "source": [
        "#Boosting using Adaboosting with randomForest\n",
        "\n",
        "ran_f = AdaBoostClassifier(RandomForestClassifier(max_depth= 8,n_jobs= 83, min_samples_split= 87, criterion= 'gini'),n_estimators= 93)\n",
        "ran_f.fit(x_train,y_train)\n",
        "y_pred = ran_f.predict(x_test)\n",
        "print(\"accuracy_score\",accuracy_score(y_test,y_pred))\n",
        "print(\"precision_score\",precision_score(y_test,y_pred))\n",
        "print(\"recall_score\",recall_score(y_test,y_pred))\n",
        "print(\"f1_score\",f1_score(y_test,y_pred))"
      ],
      "execution_count": 182,
      "outputs": [
        {
          "output_type": "stream",
          "text": [
            "/usr/local/lib/python3.6/dist-packages/sklearn/utils/validation.py:724: DataConversionWarning: A column-vector y was passed when a 1d array was expected. Please change the shape of y to (n_samples, ), for example using ravel().\n",
            "  y = column_or_1d(y, warn=True)\n",
            "/usr/local/lib/python3.6/dist-packages/sklearn/ensemble/forest.py:245: FutureWarning: The default value of n_estimators will change from 10 in version 0.20 to 100 in 0.22.\n",
            "  \"10 in version 0.20 to 100 in 0.22.\", FutureWarning)\n",
            "/usr/local/lib/python3.6/dist-packages/sklearn/ensemble/forest.py:245: FutureWarning: The default value of n_estimators will change from 10 in version 0.20 to 100 in 0.22.\n",
            "  \"10 in version 0.20 to 100 in 0.22.\", FutureWarning)\n",
            "/usr/local/lib/python3.6/dist-packages/sklearn/ensemble/forest.py:245: FutureWarning: The default value of n_estimators will change from 10 in version 0.20 to 100 in 0.22.\n",
            "  \"10 in version 0.20 to 100 in 0.22.\", FutureWarning)\n",
            "/usr/local/lib/python3.6/dist-packages/sklearn/ensemble/forest.py:245: FutureWarning: The default value of n_estimators will change from 10 in version 0.20 to 100 in 0.22.\n",
            "  \"10 in version 0.20 to 100 in 0.22.\", FutureWarning)\n",
            "/usr/local/lib/python3.6/dist-packages/sklearn/ensemble/forest.py:245: FutureWarning: The default value of n_estimators will change from 10 in version 0.20 to 100 in 0.22.\n",
            "  \"10 in version 0.20 to 100 in 0.22.\", FutureWarning)\n",
            "/usr/local/lib/python3.6/dist-packages/sklearn/ensemble/forest.py:245: FutureWarning: The default value of n_estimators will change from 10 in version 0.20 to 100 in 0.22.\n",
            "  \"10 in version 0.20 to 100 in 0.22.\", FutureWarning)\n",
            "/usr/local/lib/python3.6/dist-packages/sklearn/ensemble/forest.py:245: FutureWarning: The default value of n_estimators will change from 10 in version 0.20 to 100 in 0.22.\n",
            "  \"10 in version 0.20 to 100 in 0.22.\", FutureWarning)\n",
            "/usr/local/lib/python3.6/dist-packages/sklearn/ensemble/forest.py:245: FutureWarning: The default value of n_estimators will change from 10 in version 0.20 to 100 in 0.22.\n",
            "  \"10 in version 0.20 to 100 in 0.22.\", FutureWarning)\n",
            "/usr/local/lib/python3.6/dist-packages/sklearn/ensemble/forest.py:245: FutureWarning: The default value of n_estimators will change from 10 in version 0.20 to 100 in 0.22.\n",
            "  \"10 in version 0.20 to 100 in 0.22.\", FutureWarning)\n",
            "/usr/local/lib/python3.6/dist-packages/sklearn/ensemble/forest.py:245: FutureWarning: The default value of n_estimators will change from 10 in version 0.20 to 100 in 0.22.\n",
            "  \"10 in version 0.20 to 100 in 0.22.\", FutureWarning)\n",
            "/usr/local/lib/python3.6/dist-packages/sklearn/ensemble/forest.py:245: FutureWarning: The default value of n_estimators will change from 10 in version 0.20 to 100 in 0.22.\n",
            "  \"10 in version 0.20 to 100 in 0.22.\", FutureWarning)\n",
            "/usr/local/lib/python3.6/dist-packages/sklearn/ensemble/forest.py:245: FutureWarning: The default value of n_estimators will change from 10 in version 0.20 to 100 in 0.22.\n",
            "  \"10 in version 0.20 to 100 in 0.22.\", FutureWarning)\n",
            "/usr/local/lib/python3.6/dist-packages/sklearn/ensemble/forest.py:245: FutureWarning: The default value of n_estimators will change from 10 in version 0.20 to 100 in 0.22.\n",
            "  \"10 in version 0.20 to 100 in 0.22.\", FutureWarning)\n",
            "/usr/local/lib/python3.6/dist-packages/sklearn/ensemble/forest.py:245: FutureWarning: The default value of n_estimators will change from 10 in version 0.20 to 100 in 0.22.\n",
            "  \"10 in version 0.20 to 100 in 0.22.\", FutureWarning)\n",
            "/usr/local/lib/python3.6/dist-packages/sklearn/ensemble/forest.py:245: FutureWarning: The default value of n_estimators will change from 10 in version 0.20 to 100 in 0.22.\n",
            "  \"10 in version 0.20 to 100 in 0.22.\", FutureWarning)\n",
            "/usr/local/lib/python3.6/dist-packages/sklearn/ensemble/forest.py:245: FutureWarning: The default value of n_estimators will change from 10 in version 0.20 to 100 in 0.22.\n",
            "  \"10 in version 0.20 to 100 in 0.22.\", FutureWarning)\n",
            "/usr/local/lib/python3.6/dist-packages/sklearn/ensemble/forest.py:245: FutureWarning: The default value of n_estimators will change from 10 in version 0.20 to 100 in 0.22.\n",
            "  \"10 in version 0.20 to 100 in 0.22.\", FutureWarning)\n",
            "/usr/local/lib/python3.6/dist-packages/sklearn/ensemble/forest.py:245: FutureWarning: The default value of n_estimators will change from 10 in version 0.20 to 100 in 0.22.\n",
            "  \"10 in version 0.20 to 100 in 0.22.\", FutureWarning)\n",
            "/usr/local/lib/python3.6/dist-packages/sklearn/ensemble/forest.py:245: FutureWarning: The default value of n_estimators will change from 10 in version 0.20 to 100 in 0.22.\n",
            "  \"10 in version 0.20 to 100 in 0.22.\", FutureWarning)\n",
            "/usr/local/lib/python3.6/dist-packages/sklearn/ensemble/forest.py:245: FutureWarning: The default value of n_estimators will change from 10 in version 0.20 to 100 in 0.22.\n",
            "  \"10 in version 0.20 to 100 in 0.22.\", FutureWarning)\n",
            "/usr/local/lib/python3.6/dist-packages/sklearn/ensemble/forest.py:245: FutureWarning: The default value of n_estimators will change from 10 in version 0.20 to 100 in 0.22.\n",
            "  \"10 in version 0.20 to 100 in 0.22.\", FutureWarning)\n",
            "/usr/local/lib/python3.6/dist-packages/sklearn/ensemble/forest.py:245: FutureWarning: The default value of n_estimators will change from 10 in version 0.20 to 100 in 0.22.\n",
            "  \"10 in version 0.20 to 100 in 0.22.\", FutureWarning)\n",
            "/usr/local/lib/python3.6/dist-packages/sklearn/ensemble/forest.py:245: FutureWarning: The default value of n_estimators will change from 10 in version 0.20 to 100 in 0.22.\n",
            "  \"10 in version 0.20 to 100 in 0.22.\", FutureWarning)\n",
            "/usr/local/lib/python3.6/dist-packages/sklearn/ensemble/forest.py:245: FutureWarning: The default value of n_estimators will change from 10 in version 0.20 to 100 in 0.22.\n",
            "  \"10 in version 0.20 to 100 in 0.22.\", FutureWarning)\n",
            "/usr/local/lib/python3.6/dist-packages/sklearn/ensemble/forest.py:245: FutureWarning: The default value of n_estimators will change from 10 in version 0.20 to 100 in 0.22.\n",
            "  \"10 in version 0.20 to 100 in 0.22.\", FutureWarning)\n",
            "/usr/local/lib/python3.6/dist-packages/sklearn/ensemble/forest.py:245: FutureWarning: The default value of n_estimators will change from 10 in version 0.20 to 100 in 0.22.\n",
            "  \"10 in version 0.20 to 100 in 0.22.\", FutureWarning)\n",
            "/usr/local/lib/python3.6/dist-packages/sklearn/ensemble/forest.py:245: FutureWarning: The default value of n_estimators will change from 10 in version 0.20 to 100 in 0.22.\n",
            "  \"10 in version 0.20 to 100 in 0.22.\", FutureWarning)\n",
            "/usr/local/lib/python3.6/dist-packages/sklearn/ensemble/forest.py:245: FutureWarning: The default value of n_estimators will change from 10 in version 0.20 to 100 in 0.22.\n",
            "  \"10 in version 0.20 to 100 in 0.22.\", FutureWarning)\n",
            "/usr/local/lib/python3.6/dist-packages/sklearn/ensemble/forest.py:245: FutureWarning: The default value of n_estimators will change from 10 in version 0.20 to 100 in 0.22.\n",
            "  \"10 in version 0.20 to 100 in 0.22.\", FutureWarning)\n",
            "/usr/local/lib/python3.6/dist-packages/sklearn/ensemble/forest.py:245: FutureWarning: The default value of n_estimators will change from 10 in version 0.20 to 100 in 0.22.\n",
            "  \"10 in version 0.20 to 100 in 0.22.\", FutureWarning)\n",
            "/usr/local/lib/python3.6/dist-packages/sklearn/ensemble/forest.py:245: FutureWarning: The default value of n_estimators will change from 10 in version 0.20 to 100 in 0.22.\n",
            "  \"10 in version 0.20 to 100 in 0.22.\", FutureWarning)\n",
            "/usr/local/lib/python3.6/dist-packages/sklearn/ensemble/forest.py:245: FutureWarning: The default value of n_estimators will change from 10 in version 0.20 to 100 in 0.22.\n",
            "  \"10 in version 0.20 to 100 in 0.22.\", FutureWarning)\n",
            "/usr/local/lib/python3.6/dist-packages/sklearn/ensemble/forest.py:245: FutureWarning: The default value of n_estimators will change from 10 in version 0.20 to 100 in 0.22.\n",
            "  \"10 in version 0.20 to 100 in 0.22.\", FutureWarning)\n",
            "/usr/local/lib/python3.6/dist-packages/sklearn/ensemble/forest.py:245: FutureWarning: The default value of n_estimators will change from 10 in version 0.20 to 100 in 0.22.\n",
            "  \"10 in version 0.20 to 100 in 0.22.\", FutureWarning)\n",
            "/usr/local/lib/python3.6/dist-packages/sklearn/ensemble/forest.py:245: FutureWarning: The default value of n_estimators will change from 10 in version 0.20 to 100 in 0.22.\n",
            "  \"10 in version 0.20 to 100 in 0.22.\", FutureWarning)\n",
            "/usr/local/lib/python3.6/dist-packages/sklearn/ensemble/forest.py:245: FutureWarning: The default value of n_estimators will change from 10 in version 0.20 to 100 in 0.22.\n",
            "  \"10 in version 0.20 to 100 in 0.22.\", FutureWarning)\n",
            "/usr/local/lib/python3.6/dist-packages/sklearn/ensemble/forest.py:245: FutureWarning: The default value of n_estimators will change from 10 in version 0.20 to 100 in 0.22.\n",
            "  \"10 in version 0.20 to 100 in 0.22.\", FutureWarning)\n",
            "/usr/local/lib/python3.6/dist-packages/sklearn/ensemble/forest.py:245: FutureWarning: The default value of n_estimators will change from 10 in version 0.20 to 100 in 0.22.\n",
            "  \"10 in version 0.20 to 100 in 0.22.\", FutureWarning)\n",
            "/usr/local/lib/python3.6/dist-packages/sklearn/ensemble/forest.py:245: FutureWarning: The default value of n_estimators will change from 10 in version 0.20 to 100 in 0.22.\n",
            "  \"10 in version 0.20 to 100 in 0.22.\", FutureWarning)\n",
            "/usr/local/lib/python3.6/dist-packages/sklearn/ensemble/forest.py:245: FutureWarning: The default value of n_estimators will change from 10 in version 0.20 to 100 in 0.22.\n",
            "  \"10 in version 0.20 to 100 in 0.22.\", FutureWarning)\n",
            "/usr/local/lib/python3.6/dist-packages/sklearn/ensemble/forest.py:245: FutureWarning: The default value of n_estimators will change from 10 in version 0.20 to 100 in 0.22.\n",
            "  \"10 in version 0.20 to 100 in 0.22.\", FutureWarning)\n",
            "/usr/local/lib/python3.6/dist-packages/sklearn/ensemble/forest.py:245: FutureWarning: The default value of n_estimators will change from 10 in version 0.20 to 100 in 0.22.\n",
            "  \"10 in version 0.20 to 100 in 0.22.\", FutureWarning)\n",
            "/usr/local/lib/python3.6/dist-packages/sklearn/ensemble/forest.py:245: FutureWarning: The default value of n_estimators will change from 10 in version 0.20 to 100 in 0.22.\n",
            "  \"10 in version 0.20 to 100 in 0.22.\", FutureWarning)\n",
            "/usr/local/lib/python3.6/dist-packages/sklearn/ensemble/forest.py:245: FutureWarning: The default value of n_estimators will change from 10 in version 0.20 to 100 in 0.22.\n",
            "  \"10 in version 0.20 to 100 in 0.22.\", FutureWarning)\n",
            "/usr/local/lib/python3.6/dist-packages/sklearn/ensemble/forest.py:245: FutureWarning: The default value of n_estimators will change from 10 in version 0.20 to 100 in 0.22.\n",
            "  \"10 in version 0.20 to 100 in 0.22.\", FutureWarning)\n",
            "/usr/local/lib/python3.6/dist-packages/sklearn/ensemble/forest.py:245: FutureWarning: The default value of n_estimators will change from 10 in version 0.20 to 100 in 0.22.\n",
            "  \"10 in version 0.20 to 100 in 0.22.\", FutureWarning)\n",
            "/usr/local/lib/python3.6/dist-packages/sklearn/ensemble/forest.py:245: FutureWarning: The default value of n_estimators will change from 10 in version 0.20 to 100 in 0.22.\n",
            "  \"10 in version 0.20 to 100 in 0.22.\", FutureWarning)\n",
            "/usr/local/lib/python3.6/dist-packages/sklearn/ensemble/forest.py:245: FutureWarning: The default value of n_estimators will change from 10 in version 0.20 to 100 in 0.22.\n",
            "  \"10 in version 0.20 to 100 in 0.22.\", FutureWarning)\n",
            "/usr/local/lib/python3.6/dist-packages/sklearn/ensemble/forest.py:245: FutureWarning: The default value of n_estimators will change from 10 in version 0.20 to 100 in 0.22.\n",
            "  \"10 in version 0.20 to 100 in 0.22.\", FutureWarning)\n",
            "/usr/local/lib/python3.6/dist-packages/sklearn/ensemble/forest.py:245: FutureWarning: The default value of n_estimators will change from 10 in version 0.20 to 100 in 0.22.\n",
            "  \"10 in version 0.20 to 100 in 0.22.\", FutureWarning)\n",
            "/usr/local/lib/python3.6/dist-packages/sklearn/ensemble/forest.py:245: FutureWarning: The default value of n_estimators will change from 10 in version 0.20 to 100 in 0.22.\n",
            "  \"10 in version 0.20 to 100 in 0.22.\", FutureWarning)\n",
            "/usr/local/lib/python3.6/dist-packages/sklearn/ensemble/forest.py:245: FutureWarning: The default value of n_estimators will change from 10 in version 0.20 to 100 in 0.22.\n",
            "  \"10 in version 0.20 to 100 in 0.22.\", FutureWarning)\n",
            "/usr/local/lib/python3.6/dist-packages/sklearn/ensemble/forest.py:245: FutureWarning: The default value of n_estimators will change from 10 in version 0.20 to 100 in 0.22.\n",
            "  \"10 in version 0.20 to 100 in 0.22.\", FutureWarning)\n",
            "/usr/local/lib/python3.6/dist-packages/sklearn/ensemble/forest.py:245: FutureWarning: The default value of n_estimators will change from 10 in version 0.20 to 100 in 0.22.\n",
            "  \"10 in version 0.20 to 100 in 0.22.\", FutureWarning)\n",
            "/usr/local/lib/python3.6/dist-packages/sklearn/ensemble/forest.py:245: FutureWarning: The default value of n_estimators will change from 10 in version 0.20 to 100 in 0.22.\n",
            "  \"10 in version 0.20 to 100 in 0.22.\", FutureWarning)\n",
            "/usr/local/lib/python3.6/dist-packages/sklearn/ensemble/forest.py:245: FutureWarning: The default value of n_estimators will change from 10 in version 0.20 to 100 in 0.22.\n",
            "  \"10 in version 0.20 to 100 in 0.22.\", FutureWarning)\n",
            "/usr/local/lib/python3.6/dist-packages/sklearn/ensemble/forest.py:245: FutureWarning: The default value of n_estimators will change from 10 in version 0.20 to 100 in 0.22.\n",
            "  \"10 in version 0.20 to 100 in 0.22.\", FutureWarning)\n",
            "/usr/local/lib/python3.6/dist-packages/sklearn/ensemble/forest.py:245: FutureWarning: The default value of n_estimators will change from 10 in version 0.20 to 100 in 0.22.\n",
            "  \"10 in version 0.20 to 100 in 0.22.\", FutureWarning)\n",
            "/usr/local/lib/python3.6/dist-packages/sklearn/ensemble/forest.py:245: FutureWarning: The default value of n_estimators will change from 10 in version 0.20 to 100 in 0.22.\n",
            "  \"10 in version 0.20 to 100 in 0.22.\", FutureWarning)\n",
            "/usr/local/lib/python3.6/dist-packages/sklearn/ensemble/forest.py:245: FutureWarning: The default value of n_estimators will change from 10 in version 0.20 to 100 in 0.22.\n",
            "  \"10 in version 0.20 to 100 in 0.22.\", FutureWarning)\n",
            "/usr/local/lib/python3.6/dist-packages/sklearn/ensemble/forest.py:245: FutureWarning: The default value of n_estimators will change from 10 in version 0.20 to 100 in 0.22.\n",
            "  \"10 in version 0.20 to 100 in 0.22.\", FutureWarning)\n",
            "/usr/local/lib/python3.6/dist-packages/sklearn/ensemble/forest.py:245: FutureWarning: The default value of n_estimators will change from 10 in version 0.20 to 100 in 0.22.\n",
            "  \"10 in version 0.20 to 100 in 0.22.\", FutureWarning)\n",
            "/usr/local/lib/python3.6/dist-packages/sklearn/ensemble/forest.py:245: FutureWarning: The default value of n_estimators will change from 10 in version 0.20 to 100 in 0.22.\n",
            "  \"10 in version 0.20 to 100 in 0.22.\", FutureWarning)\n",
            "/usr/local/lib/python3.6/dist-packages/sklearn/ensemble/forest.py:245: FutureWarning: The default value of n_estimators will change from 10 in version 0.20 to 100 in 0.22.\n",
            "  \"10 in version 0.20 to 100 in 0.22.\", FutureWarning)\n",
            "/usr/local/lib/python3.6/dist-packages/sklearn/ensemble/forest.py:245: FutureWarning: The default value of n_estimators will change from 10 in version 0.20 to 100 in 0.22.\n",
            "  \"10 in version 0.20 to 100 in 0.22.\", FutureWarning)\n",
            "/usr/local/lib/python3.6/dist-packages/sklearn/ensemble/forest.py:245: FutureWarning: The default value of n_estimators will change from 10 in version 0.20 to 100 in 0.22.\n",
            "  \"10 in version 0.20 to 100 in 0.22.\", FutureWarning)\n",
            "/usr/local/lib/python3.6/dist-packages/sklearn/ensemble/forest.py:245: FutureWarning: The default value of n_estimators will change from 10 in version 0.20 to 100 in 0.22.\n",
            "  \"10 in version 0.20 to 100 in 0.22.\", FutureWarning)\n",
            "/usr/local/lib/python3.6/dist-packages/sklearn/ensemble/forest.py:245: FutureWarning: The default value of n_estimators will change from 10 in version 0.20 to 100 in 0.22.\n",
            "  \"10 in version 0.20 to 100 in 0.22.\", FutureWarning)\n",
            "/usr/local/lib/python3.6/dist-packages/sklearn/ensemble/forest.py:245: FutureWarning: The default value of n_estimators will change from 10 in version 0.20 to 100 in 0.22.\n",
            "  \"10 in version 0.20 to 100 in 0.22.\", FutureWarning)\n",
            "/usr/local/lib/python3.6/dist-packages/sklearn/ensemble/forest.py:245: FutureWarning: The default value of n_estimators will change from 10 in version 0.20 to 100 in 0.22.\n",
            "  \"10 in version 0.20 to 100 in 0.22.\", FutureWarning)\n",
            "/usr/local/lib/python3.6/dist-packages/sklearn/ensemble/forest.py:245: FutureWarning: The default value of n_estimators will change from 10 in version 0.20 to 100 in 0.22.\n",
            "  \"10 in version 0.20 to 100 in 0.22.\", FutureWarning)\n",
            "/usr/local/lib/python3.6/dist-packages/sklearn/ensemble/forest.py:245: FutureWarning: The default value of n_estimators will change from 10 in version 0.20 to 100 in 0.22.\n",
            "  \"10 in version 0.20 to 100 in 0.22.\", FutureWarning)\n",
            "/usr/local/lib/python3.6/dist-packages/sklearn/ensemble/forest.py:245: FutureWarning: The default value of n_estimators will change from 10 in version 0.20 to 100 in 0.22.\n",
            "  \"10 in version 0.20 to 100 in 0.22.\", FutureWarning)\n",
            "/usr/local/lib/python3.6/dist-packages/sklearn/ensemble/forest.py:245: FutureWarning: The default value of n_estimators will change from 10 in version 0.20 to 100 in 0.22.\n",
            "  \"10 in version 0.20 to 100 in 0.22.\", FutureWarning)\n",
            "/usr/local/lib/python3.6/dist-packages/sklearn/ensemble/forest.py:245: FutureWarning: The default value of n_estimators will change from 10 in version 0.20 to 100 in 0.22.\n",
            "  \"10 in version 0.20 to 100 in 0.22.\", FutureWarning)\n",
            "/usr/local/lib/python3.6/dist-packages/sklearn/ensemble/forest.py:245: FutureWarning: The default value of n_estimators will change from 10 in version 0.20 to 100 in 0.22.\n",
            "  \"10 in version 0.20 to 100 in 0.22.\", FutureWarning)\n",
            "/usr/local/lib/python3.6/dist-packages/sklearn/ensemble/forest.py:245: FutureWarning: The default value of n_estimators will change from 10 in version 0.20 to 100 in 0.22.\n",
            "  \"10 in version 0.20 to 100 in 0.22.\", FutureWarning)\n",
            "/usr/local/lib/python3.6/dist-packages/sklearn/ensemble/forest.py:245: FutureWarning: The default value of n_estimators will change from 10 in version 0.20 to 100 in 0.22.\n",
            "  \"10 in version 0.20 to 100 in 0.22.\", FutureWarning)\n",
            "/usr/local/lib/python3.6/dist-packages/sklearn/ensemble/forest.py:245: FutureWarning: The default value of n_estimators will change from 10 in version 0.20 to 100 in 0.22.\n",
            "  \"10 in version 0.20 to 100 in 0.22.\", FutureWarning)\n",
            "/usr/local/lib/python3.6/dist-packages/sklearn/ensemble/forest.py:245: FutureWarning: The default value of n_estimators will change from 10 in version 0.20 to 100 in 0.22.\n",
            "  \"10 in version 0.20 to 100 in 0.22.\", FutureWarning)\n",
            "/usr/local/lib/python3.6/dist-packages/sklearn/ensemble/forest.py:245: FutureWarning: The default value of n_estimators will change from 10 in version 0.20 to 100 in 0.22.\n",
            "  \"10 in version 0.20 to 100 in 0.22.\", FutureWarning)\n",
            "/usr/local/lib/python3.6/dist-packages/sklearn/ensemble/forest.py:245: FutureWarning: The default value of n_estimators will change from 10 in version 0.20 to 100 in 0.22.\n",
            "  \"10 in version 0.20 to 100 in 0.22.\", FutureWarning)\n",
            "/usr/local/lib/python3.6/dist-packages/sklearn/ensemble/forest.py:245: FutureWarning: The default value of n_estimators will change from 10 in version 0.20 to 100 in 0.22.\n",
            "  \"10 in version 0.20 to 100 in 0.22.\", FutureWarning)\n",
            "/usr/local/lib/python3.6/dist-packages/sklearn/ensemble/forest.py:245: FutureWarning: The default value of n_estimators will change from 10 in version 0.20 to 100 in 0.22.\n",
            "  \"10 in version 0.20 to 100 in 0.22.\", FutureWarning)\n",
            "/usr/local/lib/python3.6/dist-packages/sklearn/ensemble/forest.py:245: FutureWarning: The default value of n_estimators will change from 10 in version 0.20 to 100 in 0.22.\n",
            "  \"10 in version 0.20 to 100 in 0.22.\", FutureWarning)\n",
            "/usr/local/lib/python3.6/dist-packages/sklearn/ensemble/forest.py:245: FutureWarning: The default value of n_estimators will change from 10 in version 0.20 to 100 in 0.22.\n",
            "  \"10 in version 0.20 to 100 in 0.22.\", FutureWarning)\n",
            "/usr/local/lib/python3.6/dist-packages/sklearn/ensemble/forest.py:245: FutureWarning: The default value of n_estimators will change from 10 in version 0.20 to 100 in 0.22.\n",
            "  \"10 in version 0.20 to 100 in 0.22.\", FutureWarning)\n",
            "/usr/local/lib/python3.6/dist-packages/sklearn/ensemble/forest.py:245: FutureWarning: The default value of n_estimators will change from 10 in version 0.20 to 100 in 0.22.\n",
            "  \"10 in version 0.20 to 100 in 0.22.\", FutureWarning)\n",
            "/usr/local/lib/python3.6/dist-packages/sklearn/ensemble/forest.py:245: FutureWarning: The default value of n_estimators will change from 10 in version 0.20 to 100 in 0.22.\n",
            "  \"10 in version 0.20 to 100 in 0.22.\", FutureWarning)\n",
            "/usr/local/lib/python3.6/dist-packages/sklearn/ensemble/forest.py:245: FutureWarning: The default value of n_estimators will change from 10 in version 0.20 to 100 in 0.22.\n",
            "  \"10 in version 0.20 to 100 in 0.22.\", FutureWarning)\n",
            "/usr/local/lib/python3.6/dist-packages/sklearn/ensemble/forest.py:245: FutureWarning: The default value of n_estimators will change from 10 in version 0.20 to 100 in 0.22.\n",
            "  \"10 in version 0.20 to 100 in 0.22.\", FutureWarning)\n",
            "/usr/local/lib/python3.6/dist-packages/sklearn/ensemble/forest.py:245: FutureWarning: The default value of n_estimators will change from 10 in version 0.20 to 100 in 0.22.\n",
            "  \"10 in version 0.20 to 100 in 0.22.\", FutureWarning)\n",
            "/usr/local/lib/python3.6/dist-packages/sklearn/ensemble/forest.py:245: FutureWarning: The default value of n_estimators will change from 10 in version 0.20 to 100 in 0.22.\n",
            "  \"10 in version 0.20 to 100 in 0.22.\", FutureWarning)\n"
          ],
          "name": "stderr"
        },
        {
          "output_type": "stream",
          "text": [
            "accuracy_score 0.9967585089141004\n",
            "precision_score 0.9966329966329966\n",
            "recall_score 1.0\n",
            "f1_score 0.9983136593591906\n"
          ],
          "name": "stdout"
        }
      ]
    },
    {
      "cell_type": "code",
      "metadata": {
        "id": "TBq-jsoopq7x",
        "colab_type": "code",
        "colab": {
          "base_uri": "https://localhost:8080/",
          "height": 138
        },
        "outputId": "a77bb12a-191e-4009-c09a-1c522cbad5ba"
      },
      "source": [
        "#Gradient Boosting\n",
        "grad_f = GradientBoostingClassifier()\n",
        "grad_f.fit(x_train,y_train)\n",
        "y_pred = grad_f.predict(x_test)\n",
        "print(\"accuracy_score\",accuracy_score(y_test,y_pred))\n",
        "print(\"precision_score\",precision_score(y_test,y_pred))\n",
        "print(\"recall_score\",recall_score(y_test,y_pred))\n",
        "print(\"f1_score\",f1_score(y_test,y_pred))"
      ],
      "execution_count": 183,
      "outputs": [
        {
          "output_type": "stream",
          "text": [
            "/usr/local/lib/python3.6/dist-packages/sklearn/ensemble/gradient_boosting.py:1450: DataConversionWarning: A column-vector y was passed when a 1d array was expected. Please change the shape of y to (n_samples, ), for example using ravel().\n",
            "  y = column_or_1d(y, warn=True)\n"
          ],
          "name": "stderr"
        },
        {
          "output_type": "stream",
          "text": [
            "accuracy_score 0.993517017828201\n",
            "precision_score 0.9966216216216216\n",
            "recall_score 0.9966216216216216\n",
            "f1_score 0.9966216216216216\n"
          ],
          "name": "stdout"
        }
      ]
    },
    {
      "cell_type": "markdown",
      "metadata": {
        "id": "5yMPZPbSC7IR",
        "colab_type": "text"
      },
      "source": [
        "#Random Forest Implementation."
      ]
    },
    {
      "cell_type": "code",
      "metadata": {
        "id": "e7L_HOZnDDVz",
        "colab_type": "code",
        "outputId": "29f93bb3-04cb-4ed7-8179-35b06e4fa6a6",
        "colab": {
          "base_uri": "https://localhost:8080/",
          "height": 659
        }
      },
      "source": [
        "# Pandas is used for data manipulation\n",
        "import pandas as pd\n",
        "\n",
        "# Read in data as pandas dataframe and display first 20 rows\n",
        "features = pd.read_csv('hypothyroid.csv')\n",
        "features.head(20)"
      ],
      "execution_count": 0,
      "outputs": [
        {
          "output_type": "execute_result",
          "data": {
            "text/html": [
              "<div>\n",
              "<style scoped>\n",
              "    .dataframe tbody tr th:only-of-type {\n",
              "        vertical-align: middle;\n",
              "    }\n",
              "\n",
              "    .dataframe tbody tr th {\n",
              "        vertical-align: top;\n",
              "    }\n",
              "\n",
              "    .dataframe thead th {\n",
              "        text-align: right;\n",
              "    }\n",
              "</style>\n",
              "<table border=\"1\" class=\"dataframe\">\n",
              "  <thead>\n",
              "    <tr style=\"text-align: right;\">\n",
              "      <th></th>\n",
              "      <th>status</th>\n",
              "      <th>age</th>\n",
              "      <th>sex</th>\n",
              "      <th>on_thyroxine</th>\n",
              "      <th>query_on_thyroxine</th>\n",
              "      <th>on_antithyroid_medication</th>\n",
              "      <th>thyroid_surgery</th>\n",
              "      <th>query_hypothyroid</th>\n",
              "      <th>query_hyperthyroid</th>\n",
              "      <th>pregnant</th>\n",
              "      <th>sick</th>\n",
              "      <th>tumor</th>\n",
              "      <th>lithium</th>\n",
              "      <th>goitre</th>\n",
              "      <th>TSH_measured</th>\n",
              "      <th>TSH</th>\n",
              "      <th>T3_measured</th>\n",
              "      <th>T3</th>\n",
              "      <th>TT4_measured</th>\n",
              "      <th>TT4</th>\n",
              "      <th>T4U_measured</th>\n",
              "      <th>T4U</th>\n",
              "      <th>FTI_measured</th>\n",
              "      <th>FTI</th>\n",
              "      <th>TBG_measured</th>\n",
              "      <th>TBG</th>\n",
              "    </tr>\n",
              "  </thead>\n",
              "  <tbody>\n",
              "    <tr>\n",
              "      <th>0</th>\n",
              "      <td>hypothyroid</td>\n",
              "      <td>72</td>\n",
              "      <td>M</td>\n",
              "      <td>f</td>\n",
              "      <td>f</td>\n",
              "      <td>f</td>\n",
              "      <td>f</td>\n",
              "      <td>f</td>\n",
              "      <td>f</td>\n",
              "      <td>f</td>\n",
              "      <td>f</td>\n",
              "      <td>f</td>\n",
              "      <td>f</td>\n",
              "      <td>f</td>\n",
              "      <td>y</td>\n",
              "      <td>30</td>\n",
              "      <td>y</td>\n",
              "      <td>0.60</td>\n",
              "      <td>y</td>\n",
              "      <td>15</td>\n",
              "      <td>y</td>\n",
              "      <td>1.48</td>\n",
              "      <td>y</td>\n",
              "      <td>10</td>\n",
              "      <td>n</td>\n",
              "      <td>?</td>\n",
              "    </tr>\n",
              "    <tr>\n",
              "      <th>1</th>\n",
              "      <td>hypothyroid</td>\n",
              "      <td>15</td>\n",
              "      <td>F</td>\n",
              "      <td>t</td>\n",
              "      <td>f</td>\n",
              "      <td>f</td>\n",
              "      <td>f</td>\n",
              "      <td>f</td>\n",
              "      <td>f</td>\n",
              "      <td>f</td>\n",
              "      <td>f</td>\n",
              "      <td>f</td>\n",
              "      <td>f</td>\n",
              "      <td>f</td>\n",
              "      <td>y</td>\n",
              "      <td>145</td>\n",
              "      <td>y</td>\n",
              "      <td>1.70</td>\n",
              "      <td>y</td>\n",
              "      <td>19</td>\n",
              "      <td>y</td>\n",
              "      <td>1.13</td>\n",
              "      <td>y</td>\n",
              "      <td>17</td>\n",
              "      <td>n</td>\n",
              "      <td>?</td>\n",
              "    </tr>\n",
              "    <tr>\n",
              "      <th>2</th>\n",
              "      <td>hypothyroid</td>\n",
              "      <td>24</td>\n",
              "      <td>M</td>\n",
              "      <td>f</td>\n",
              "      <td>f</td>\n",
              "      <td>f</td>\n",
              "      <td>f</td>\n",
              "      <td>f</td>\n",
              "      <td>f</td>\n",
              "      <td>f</td>\n",
              "      <td>f</td>\n",
              "      <td>f</td>\n",
              "      <td>f</td>\n",
              "      <td>f</td>\n",
              "      <td>y</td>\n",
              "      <td>0</td>\n",
              "      <td>y</td>\n",
              "      <td>0.20</td>\n",
              "      <td>y</td>\n",
              "      <td>4</td>\n",
              "      <td>y</td>\n",
              "      <td>1</td>\n",
              "      <td>y</td>\n",
              "      <td>0</td>\n",
              "      <td>n</td>\n",
              "      <td>?</td>\n",
              "    </tr>\n",
              "    <tr>\n",
              "      <th>3</th>\n",
              "      <td>hypothyroid</td>\n",
              "      <td>24</td>\n",
              "      <td>F</td>\n",
              "      <td>f</td>\n",
              "      <td>f</td>\n",
              "      <td>f</td>\n",
              "      <td>f</td>\n",
              "      <td>f</td>\n",
              "      <td>f</td>\n",
              "      <td>f</td>\n",
              "      <td>f</td>\n",
              "      <td>f</td>\n",
              "      <td>f</td>\n",
              "      <td>f</td>\n",
              "      <td>y</td>\n",
              "      <td>430</td>\n",
              "      <td>y</td>\n",
              "      <td>0.40</td>\n",
              "      <td>y</td>\n",
              "      <td>6</td>\n",
              "      <td>y</td>\n",
              "      <td>1.04</td>\n",
              "      <td>y</td>\n",
              "      <td>6</td>\n",
              "      <td>n</td>\n",
              "      <td>?</td>\n",
              "    </tr>\n",
              "    <tr>\n",
              "      <th>4</th>\n",
              "      <td>hypothyroid</td>\n",
              "      <td>77</td>\n",
              "      <td>M</td>\n",
              "      <td>f</td>\n",
              "      <td>f</td>\n",
              "      <td>f</td>\n",
              "      <td>f</td>\n",
              "      <td>f</td>\n",
              "      <td>f</td>\n",
              "      <td>f</td>\n",
              "      <td>f</td>\n",
              "      <td>f</td>\n",
              "      <td>f</td>\n",
              "      <td>f</td>\n",
              "      <td>y</td>\n",
              "      <td>7.30</td>\n",
              "      <td>y</td>\n",
              "      <td>1.20</td>\n",
              "      <td>y</td>\n",
              "      <td>57</td>\n",
              "      <td>y</td>\n",
              "      <td>1.28</td>\n",
              "      <td>y</td>\n",
              "      <td>44</td>\n",
              "      <td>n</td>\n",
              "      <td>?</td>\n",
              "    </tr>\n",
              "    <tr>\n",
              "      <th>5</th>\n",
              "      <td>hypothyroid</td>\n",
              "      <td>85</td>\n",
              "      <td>F</td>\n",
              "      <td>f</td>\n",
              "      <td>f</td>\n",
              "      <td>f</td>\n",
              "      <td>f</td>\n",
              "      <td>t</td>\n",
              "      <td>f</td>\n",
              "      <td>f</td>\n",
              "      <td>f</td>\n",
              "      <td>f</td>\n",
              "      <td>f</td>\n",
              "      <td>f</td>\n",
              "      <td>y</td>\n",
              "      <td>138</td>\n",
              "      <td>y</td>\n",
              "      <td>1.10</td>\n",
              "      <td>y</td>\n",
              "      <td>27</td>\n",
              "      <td>y</td>\n",
              "      <td>1.19</td>\n",
              "      <td>y</td>\n",
              "      <td>23</td>\n",
              "      <td>n</td>\n",
              "      <td>?</td>\n",
              "    </tr>\n",
              "    <tr>\n",
              "      <th>6</th>\n",
              "      <td>hypothyroid</td>\n",
              "      <td>64</td>\n",
              "      <td>F</td>\n",
              "      <td>f</td>\n",
              "      <td>f</td>\n",
              "      <td>f</td>\n",
              "      <td>t</td>\n",
              "      <td>f</td>\n",
              "      <td>f</td>\n",
              "      <td>f</td>\n",
              "      <td>f</td>\n",
              "      <td>f</td>\n",
              "      <td>f</td>\n",
              "      <td>f</td>\n",
              "      <td>y</td>\n",
              "      <td>7.70</td>\n",
              "      <td>y</td>\n",
              "      <td>1.30</td>\n",
              "      <td>y</td>\n",
              "      <td>54</td>\n",
              "      <td>y</td>\n",
              "      <td>0.86</td>\n",
              "      <td>y</td>\n",
              "      <td>63</td>\n",
              "      <td>n</td>\n",
              "      <td>?</td>\n",
              "    </tr>\n",
              "    <tr>\n",
              "      <th>7</th>\n",
              "      <td>hypothyroid</td>\n",
              "      <td>72</td>\n",
              "      <td>F</td>\n",
              "      <td>f</td>\n",
              "      <td>f</td>\n",
              "      <td>f</td>\n",
              "      <td>f</td>\n",
              "      <td>f</td>\n",
              "      <td>f</td>\n",
              "      <td>f</td>\n",
              "      <td>f</td>\n",
              "      <td>f</td>\n",
              "      <td>f</td>\n",
              "      <td>f</td>\n",
              "      <td>y</td>\n",
              "      <td>21</td>\n",
              "      <td>y</td>\n",
              "      <td>1.90</td>\n",
              "      <td>y</td>\n",
              "      <td>34</td>\n",
              "      <td>y</td>\n",
              "      <td>1.05</td>\n",
              "      <td>y</td>\n",
              "      <td>32</td>\n",
              "      <td>n</td>\n",
              "      <td>?</td>\n",
              "    </tr>\n",
              "    <tr>\n",
              "      <th>8</th>\n",
              "      <td>hypothyroid</td>\n",
              "      <td>20</td>\n",
              "      <td>F</td>\n",
              "      <td>f</td>\n",
              "      <td>f</td>\n",
              "      <td>f</td>\n",
              "      <td>f</td>\n",
              "      <td>t</td>\n",
              "      <td>f</td>\n",
              "      <td>f</td>\n",
              "      <td>f</td>\n",
              "      <td>f</td>\n",
              "      <td>f</td>\n",
              "      <td>f</td>\n",
              "      <td>y</td>\n",
              "      <td>92</td>\n",
              "      <td>n</td>\n",
              "      <td>?</td>\n",
              "      <td>y</td>\n",
              "      <td>39</td>\n",
              "      <td>y</td>\n",
              "      <td>1.21</td>\n",
              "      <td>y</td>\n",
              "      <td>32</td>\n",
              "      <td>n</td>\n",
              "      <td>?</td>\n",
              "    </tr>\n",
              "    <tr>\n",
              "      <th>9</th>\n",
              "      <td>hypothyroid</td>\n",
              "      <td>42</td>\n",
              "      <td>F</td>\n",
              "      <td>f</td>\n",
              "      <td>f</td>\n",
              "      <td>f</td>\n",
              "      <td>f</td>\n",
              "      <td>f</td>\n",
              "      <td>f</td>\n",
              "      <td>f</td>\n",
              "      <td>f</td>\n",
              "      <td>f</td>\n",
              "      <td>f</td>\n",
              "      <td>f</td>\n",
              "      <td>y</td>\n",
              "      <td>48</td>\n",
              "      <td>n</td>\n",
              "      <td>?</td>\n",
              "      <td>y</td>\n",
              "      <td>7.60</td>\n",
              "      <td>y</td>\n",
              "      <td>1.02</td>\n",
              "      <td>y</td>\n",
              "      <td>7.50</td>\n",
              "      <td>n</td>\n",
              "      <td>?</td>\n",
              "    </tr>\n",
              "    <tr>\n",
              "      <th>10</th>\n",
              "      <td>hypothyroid</td>\n",
              "      <td>69</td>\n",
              "      <td>F</td>\n",
              "      <td>f</td>\n",
              "      <td>f</td>\n",
              "      <td>f</td>\n",
              "      <td>f</td>\n",
              "      <td>f</td>\n",
              "      <td>f</td>\n",
              "      <td>f</td>\n",
              "      <td>f</td>\n",
              "      <td>f</td>\n",
              "      <td>f</td>\n",
              "      <td>f</td>\n",
              "      <td>y</td>\n",
              "      <td>21</td>\n",
              "      <td>y</td>\n",
              "      <td>0.80</td>\n",
              "      <td>y</td>\n",
              "      <td>53</td>\n",
              "      <td>y</td>\n",
              "      <td>0.86</td>\n",
              "      <td>y</td>\n",
              "      <td>61</td>\n",
              "      <td>n</td>\n",
              "      <td>?</td>\n",
              "    </tr>\n",
              "    <tr>\n",
              "      <th>11</th>\n",
              "      <td>hypothyroid</td>\n",
              "      <td>75</td>\n",
              "      <td>F</td>\n",
              "      <td>f</td>\n",
              "      <td>f</td>\n",
              "      <td>f</td>\n",
              "      <td>f</td>\n",
              "      <td>f</td>\n",
              "      <td>f</td>\n",
              "      <td>f</td>\n",
              "      <td>f</td>\n",
              "      <td>f</td>\n",
              "      <td>f</td>\n",
              "      <td>f</td>\n",
              "      <td>y</td>\n",
              "      <td>36</td>\n",
              "      <td>y</td>\n",
              "      <td>1.10</td>\n",
              "      <td>y</td>\n",
              "      <td>38</td>\n",
              "      <td>y</td>\n",
              "      <td>0.92</td>\n",
              "      <td>y</td>\n",
              "      <td>41</td>\n",
              "      <td>n</td>\n",
              "      <td>?</td>\n",
              "    </tr>\n",
              "    <tr>\n",
              "      <th>12</th>\n",
              "      <td>hypothyroid</td>\n",
              "      <td>72</td>\n",
              "      <td>F</td>\n",
              "      <td>f</td>\n",
              "      <td>f</td>\n",
              "      <td>f</td>\n",
              "      <td>f</td>\n",
              "      <td>f</td>\n",
              "      <td>f</td>\n",
              "      <td>f</td>\n",
              "      <td>f</td>\n",
              "      <td>f</td>\n",
              "      <td>f</td>\n",
              "      <td>f</td>\n",
              "      <td>y</td>\n",
              "      <td>15</td>\n",
              "      <td>y</td>\n",
              "      <td>2.20</td>\n",
              "      <td>y</td>\n",
              "      <td>98</td>\n",
              "      <td>y</td>\n",
              "      <td>1.29</td>\n",
              "      <td>y</td>\n",
              "      <td>76</td>\n",
              "      <td>n</td>\n",
              "      <td>?</td>\n",
              "    </tr>\n",
              "    <tr>\n",
              "      <th>13</th>\n",
              "      <td>hypothyroid</td>\n",
              "      <td>53</td>\n",
              "      <td>F</td>\n",
              "      <td>f</td>\n",
              "      <td>f</td>\n",
              "      <td>f</td>\n",
              "      <td>f</td>\n",
              "      <td>f</td>\n",
              "      <td>t</td>\n",
              "      <td>f</td>\n",
              "      <td>f</td>\n",
              "      <td>f</td>\n",
              "      <td>f</td>\n",
              "      <td>f</td>\n",
              "      <td>y</td>\n",
              "      <td>15.30</td>\n",
              "      <td>y</td>\n",
              "      <td>1.50</td>\n",
              "      <td>y</td>\n",
              "      <td>44</td>\n",
              "      <td>y</td>\n",
              "      <td>0.98</td>\n",
              "      <td>y</td>\n",
              "      <td>45</td>\n",
              "      <td>n</td>\n",
              "      <td>?</td>\n",
              "    </tr>\n",
              "    <tr>\n",
              "      <th>14</th>\n",
              "      <td>hypothyroid</td>\n",
              "      <td>59</td>\n",
              "      <td>F</td>\n",
              "      <td>f</td>\n",
              "      <td>f</td>\n",
              "      <td>f</td>\n",
              "      <td>f</td>\n",
              "      <td>f</td>\n",
              "      <td>f</td>\n",
              "      <td>f</td>\n",
              "      <td>f</td>\n",
              "      <td>f</td>\n",
              "      <td>f</td>\n",
              "      <td>f</td>\n",
              "      <td>y</td>\n",
              "      <td>25</td>\n",
              "      <td>y</td>\n",
              "      <td>2.70</td>\n",
              "      <td>y</td>\n",
              "      <td>37</td>\n",
              "      <td>y</td>\n",
              "      <td>1.08</td>\n",
              "      <td>y</td>\n",
              "      <td>34</td>\n",
              "      <td>n</td>\n",
              "      <td>?</td>\n",
              "    </tr>\n",
              "    <tr>\n",
              "      <th>15</th>\n",
              "      <td>hypothyroid</td>\n",
              "      <td>68</td>\n",
              "      <td>M</td>\n",
              "      <td>f</td>\n",
              "      <td>f</td>\n",
              "      <td>f</td>\n",
              "      <td>f</td>\n",
              "      <td>f</td>\n",
              "      <td>f</td>\n",
              "      <td>f</td>\n",
              "      <td>f</td>\n",
              "      <td>f</td>\n",
              "      <td>f</td>\n",
              "      <td>f</td>\n",
              "      <td>y</td>\n",
              "      <td>15</td>\n",
              "      <td>y</td>\n",
              "      <td>2</td>\n",
              "      <td>y</td>\n",
              "      <td>81</td>\n",
              "      <td>y</td>\n",
              "      <td>1.01</td>\n",
              "      <td>y</td>\n",
              "      <td>81</td>\n",
              "      <td>n</td>\n",
              "      <td>?</td>\n",
              "    </tr>\n",
              "    <tr>\n",
              "      <th>16</th>\n",
              "      <td>hypothyroid</td>\n",
              "      <td>50</td>\n",
              "      <td>F</td>\n",
              "      <td>t</td>\n",
              "      <td>f</td>\n",
              "      <td>f</td>\n",
              "      <td>t</td>\n",
              "      <td>f</td>\n",
              "      <td>f</td>\n",
              "      <td>f</td>\n",
              "      <td>f</td>\n",
              "      <td>f</td>\n",
              "      <td>f</td>\n",
              "      <td>f</td>\n",
              "      <td>y</td>\n",
              "      <td>61</td>\n",
              "      <td>n</td>\n",
              "      <td>?</td>\n",
              "      <td>y</td>\n",
              "      <td>13</td>\n",
              "      <td>y</td>\n",
              "      <td>1.18</td>\n",
              "      <td>y</td>\n",
              "      <td>11</td>\n",
              "      <td>n</td>\n",
              "      <td>?</td>\n",
              "    </tr>\n",
              "    <tr>\n",
              "      <th>17</th>\n",
              "      <td>hypothyroid</td>\n",
              "      <td>78</td>\n",
              "      <td>F</td>\n",
              "      <td>f</td>\n",
              "      <td>f</td>\n",
              "      <td>f</td>\n",
              "      <td>f</td>\n",
              "      <td>f</td>\n",
              "      <td>f</td>\n",
              "      <td>f</td>\n",
              "      <td>f</td>\n",
              "      <td>f</td>\n",
              "      <td>f</td>\n",
              "      <td>f</td>\n",
              "      <td>y</td>\n",
              "      <td>28</td>\n",
              "      <td>y</td>\n",
              "      <td>0.20</td>\n",
              "      <td>y</td>\n",
              "      <td>17</td>\n",
              "      <td>y</td>\n",
              "      <td>1.01</td>\n",
              "      <td>y</td>\n",
              "      <td>16</td>\n",
              "      <td>n</td>\n",
              "      <td>?</td>\n",
              "    </tr>\n",
              "    <tr>\n",
              "      <th>18</th>\n",
              "      <td>hypothyroid</td>\n",
              "      <td>65</td>\n",
              "      <td>F</td>\n",
              "      <td>f</td>\n",
              "      <td>f</td>\n",
              "      <td>f</td>\n",
              "      <td>f</td>\n",
              "      <td>f</td>\n",
              "      <td>f</td>\n",
              "      <td>f</td>\n",
              "      <td>f</td>\n",
              "      <td>f</td>\n",
              "      <td>f</td>\n",
              "      <td>f</td>\n",
              "      <td>y</td>\n",
              "      <td>170</td>\n",
              "      <td>y</td>\n",
              "      <td>0.30</td>\n",
              "      <td>y</td>\n",
              "      <td>12</td>\n",
              "      <td>y</td>\n",
              "      <td>1.05</td>\n",
              "      <td>y</td>\n",
              "      <td>11</td>\n",
              "      <td>n</td>\n",
              "      <td>?</td>\n",
              "    </tr>\n",
              "    <tr>\n",
              "      <th>19</th>\n",
              "      <td>hypothyroid</td>\n",
              "      <td>28</td>\n",
              "      <td>F</td>\n",
              "      <td>f</td>\n",
              "      <td>f</td>\n",
              "      <td>f</td>\n",
              "      <td>f</td>\n",
              "      <td>f</td>\n",
              "      <td>f</td>\n",
              "      <td>f</td>\n",
              "      <td>f</td>\n",
              "      <td>f</td>\n",
              "      <td>f</td>\n",
              "      <td>f</td>\n",
              "      <td>y</td>\n",
              "      <td>54</td>\n",
              "      <td>y</td>\n",
              "      <td>2.10</td>\n",
              "      <td>y</td>\n",
              "      <td>50</td>\n",
              "      <td>y</td>\n",
              "      <td>1.10</td>\n",
              "      <td>y</td>\n",
              "      <td>46</td>\n",
              "      <td>n</td>\n",
              "      <td>?</td>\n",
              "    </tr>\n",
              "  </tbody>\n",
              "</table>\n",
              "</div>"
            ],
            "text/plain": [
              "         status age sex on_thyroxine  ... FTI_measured   FTI TBG_measured TBG\n",
              "0   hypothyroid  72   M            f  ...            y    10            n   ?\n",
              "1   hypothyroid  15   F            t  ...            y    17            n   ?\n",
              "2   hypothyroid  24   M            f  ...            y     0            n   ?\n",
              "3   hypothyroid  24   F            f  ...            y     6            n   ?\n",
              "4   hypothyroid  77   M            f  ...            y    44            n   ?\n",
              "5   hypothyroid  85   F            f  ...            y    23            n   ?\n",
              "6   hypothyroid  64   F            f  ...            y    63            n   ?\n",
              "7   hypothyroid  72   F            f  ...            y    32            n   ?\n",
              "8   hypothyroid  20   F            f  ...            y    32            n   ?\n",
              "9   hypothyroid  42   F            f  ...            y  7.50            n   ?\n",
              "10  hypothyroid  69   F            f  ...            y    61            n   ?\n",
              "11  hypothyroid  75   F            f  ...            y    41            n   ?\n",
              "12  hypothyroid  72   F            f  ...            y    76            n   ?\n",
              "13  hypothyroid  53   F            f  ...            y    45            n   ?\n",
              "14  hypothyroid  59   F            f  ...            y    34            n   ?\n",
              "15  hypothyroid  68   M            f  ...            y    81            n   ?\n",
              "16  hypothyroid  50   F            t  ...            y    11            n   ?\n",
              "17  hypothyroid  78   F            f  ...            y    16            n   ?\n",
              "18  hypothyroid  65   F            f  ...            y    11            n   ?\n",
              "19  hypothyroid  28   F            f  ...            y    46            n   ?\n",
              "\n",
              "[20 rows x 26 columns]"
            ]
          },
          "metadata": {
            "tags": []
          },
          "execution_count": 85
        }
      ]
    },
    {
      "cell_type": "code",
      "metadata": {
        "id": "MceVio1aDoYo",
        "colab_type": "code",
        "outputId": "7022f27c-5b60-49b1-831c-4db4a09f38c1",
        "colab": {
          "base_uri": "https://localhost:8080/",
          "height": 34
        }
      },
      "source": [
        "print('The shape of our features is:', features.shape)"
      ],
      "execution_count": 0,
      "outputs": [
        {
          "output_type": "stream",
          "text": [
            "The shape of our features is: (3163, 26)\n"
          ],
          "name": "stdout"
        }
      ]
    },
    {
      "cell_type": "code",
      "metadata": {
        "id": "PSLgzDrfGXP9",
        "colab_type": "code",
        "colab": {}
      },
      "source": [
        "# Using Skicit-learn to split data into training and testing sets\n",
        "from sklearn.model_selection import train_test_split\n",
        "\n",
        "# Split the data into training and testing sets\n",
        "train_features, test_features, train_labels, test_labels = train_test_split(features, labels, test_size = 0.25,\n",
        "                                                                           random_state = 42)"
      ],
      "execution_count": 0,
      "outputs": []
    },
    {
      "cell_type": "code",
      "metadata": {
        "id": "uKuvSzpVQBqt",
        "colab_type": "code",
        "colab": {}
      },
      "source": [
        "# implementing random forest\n",
        "ran_f = RandomForestClassifier()\n",
        "ran_f.fit(x_train,y_train)\n",
        "y_pred = rf.predict(x_test)\n",
        "print(\"accuracy_score\",accuracy_score(y_test,y_pred))\n",
        "print(\"precision_score\",precision_score(y_test,y_pred))\n",
        "print(\"recall_score\",recall_score(y_test,y_pred))\n",
        "print(\"f1_score\",f1_score(y_test,y_pred))"
      ],
      "execution_count": 0,
      "outputs": []
    },
    {
      "cell_type": "code",
      "metadata": {
        "id": "yj1u3V69Ggfw",
        "colab_type": "code",
        "outputId": "3a34861a-199d-4fcb-abd8-16314bda8c85",
        "colab": {
          "base_uri": "https://localhost:8080/",
          "height": 84
        }
      },
      "source": [
        "print('Training Features Shape:', train_features.shape)\n",
        "print('Training Labels Shape:', train_labels.shape)\n",
        "print('Testing Features Shape:', test_features.shape)\n",
        "print('Testing Labels Shape:', test_labels.shape)"
      ],
      "execution_count": 0,
      "outputs": [
        {
          "output_type": "stream",
          "text": [
            "Training Features Shape: (2372, 25)\n",
            "Training Labels Shape: (2372,)\n",
            "Testing Features Shape: (791, 25)\n",
            "Testing Labels Shape: (791,)\n"
          ],
          "name": "stdout"
        }
      ]
    },
    {
      "cell_type": "code",
      "metadata": {
        "id": "YeGMWyv9Go9p",
        "colab_type": "code",
        "colab": {}
      },
      "source": [
        "# The baseline predictions are the historical averages\n",
        "baseline_preds = test_features[:, feature_list.index('average')]\n",
        "\n",
        "# Baseline errors, and display average baseline error\n",
        "baseline_errors = abs(baseline_preds - test_labels)\n",
        "print('Baseline error: ', round(np.mean(baseline_errors), 2))"
      ],
      "execution_count": 0,
      "outputs": []
    },
    {
      "cell_type": "code",
      "metadata": {
        "id": "6F9U4GXPM55d",
        "colab_type": "code",
        "colab": {}
      },
      "source": [
        "from sklearn.model_selection import train_test_split\n",
        "\n",
        "# Split the independent and dependent variables\n",
        "#  \n",
        "y = nairobi_hosp_data['status'].values\n",
        "\n",
        "\n",
        "test_features = nairobi_hosp_data.columns.to_list()\n",
        "test_features.remove('status')\n",
        "\n",
        "# We should be able to use nearly all the other features, but for the sake of simplifying our visualization later, we only pick a few.\n",
        "X = nairobi_hosp_data[test_features].values\n",
        "\n",
        "# Train using 80% of the data.\n",
        "X_train, X_test, y_train, y_test = train_test_split(X, y, test_size=0.3, random_state=0)\n",
        "\n",
        "\n",
        "# Import the model\n",
        "from sklearn.ensemble import RandomForestRegressor\n",
        "\n",
        "# The random_state variable is here to guarantee that we all see the same numbers.\n",
        "# Note that we can provide the same parameters as in the decision tree, such as \n",
        "# min_samples_split or max_depth\n",
        "forest = RandomForestRegressor(n_estimators = 100, random_state=42, min_samples_split = 20, max_depth=5)\n",
        "forest = forest.fit(X_train, y_train)\n",
        "\n",
        "# Predict based on the model we've trained\n",
        "y_pred = forest.predict(X_test)\n",
        "\n",
        "\n",
        "comparison_frame = pd.DataFrame({'Actual': y_test.flatten(), 'Predicted': y_pred.flatten()})\n",
        "\n",
        "comparison_frame.describe()\n"
      ],
      "execution_count": 0,
      "outputs": []
    },
    {
      "cell_type": "code",
      "metadata": {
        "id": "8Cnhem3jbdc4",
        "colab_type": "code",
        "colab": {}
      },
      "source": [
        "from sklearn.svm import SVC"
      ],
      "execution_count": 0,
      "outputs": []
    },
    {
      "cell_type": "code",
      "metadata": {
        "id": "QtRGsJoeajUF",
        "colab_type": "code",
        "colab": {}
      },
      "source": [
        "# Create a mesh grid for our graph\n",
        "def make_meshgrid(x, y, h=.02):\n",
        "    x_min, x_max = x.min() - 1, x.max() + 1\n",
        "    y_min, y_max = y.min() - 1, y.max() + 1\n",
        "    xx, yy = np.meshgrid(np.arange(x_min, x_max, h), np.arange(y_min, y_max, h))\n",
        "    return xx, yy\n",
        "\n",
        "# A function that creates the hyperplanes from our model\n",
        "def plot_contours(ax, clf, xx, yy, **params):\n",
        "    Z = svcr2.predict(np.c_[xx.ravel(), yy.ravel()])\n",
        "    Z = Z.reshape(xx.shape)\n",
        "    out = ax.contourf(xx, yy, Z, **params)\n",
        "    return out\n",
        "\n",
        "fig, ax = plt.subplots()\n",
        "# title for the plots\n",
        "title = ('Hyperthyroid Classification with RBF SVC')\n",
        "X = nairobi_hosp_data[['age', 'TSH']].iloc[:150, :].values\n",
        "X0, X1 = X[:, 0], X[:, 1]\n",
        "xx, yy = make_meshgrid(X0, X1)\n",
        "\n",
        "plot_contours(ax, svcr2, xx, yy, cmap=plt.cm.coolwarm, alpha=0.8)\n",
        "ax.scatter(X0, X1, c=type_label, cmap=plt.cm.coolwarm, s=20, edgecolors='k')\n",
        "ax.set_ylabel('TSH')\n",
        "ax.set_xlabel('Age')\n",
        "ax.set_xticks(())\n",
        "ax.set_yticks(())\n",
        "ax.set_title(title)\n",
        "plt.show()"
      ],
      "execution_count": 0,
      "outputs": []
    },
    {
      "cell_type": "code",
      "metadata": {
        "id": "fZ2P5KS6isHx",
        "colab_type": "code",
        "colab": {
          "base_uri": "https://localhost:8080/",
          "height": 171
        },
        "outputId": "132222a8-6042-4a6d-a941-91e4ce044933"
      },
      "source": [
        "# implementing random forest\n",
        "ran_f = RandomForestClassifier()\n",
        "ran_f.fit(x_train,y_train)\n",
        "y_pred = ran_f.predict(x_test)\n",
        "print(\"accuracy_score\",accuracy_score(y_test,y_pred))\n",
        "print(\"precision_score\",precision_score(y_test,y_pred))\n",
        "print(\"recall_score\",recall_score(y_test,y_pred))\n",
        "print(\"f1_score\",f1_score(y_test,y_pred))"
      ],
      "execution_count": 146,
      "outputs": [
        {
          "output_type": "stream",
          "text": [
            "accuracy_score 0.9902755267423015\n",
            "precision_score 0.9932659932659933\n",
            "recall_score 0.9966216216216216\n",
            "f1_score 0.9949409780775715\n"
          ],
          "name": "stdout"
        },
        {
          "output_type": "stream",
          "text": [
            "/usr/local/lib/python3.6/dist-packages/sklearn/ensemble/forest.py:245: FutureWarning: The default value of n_estimators will change from 10 in version 0.20 to 100 in 0.22.\n",
            "  \"10 in version 0.20 to 100 in 0.22.\", FutureWarning)\n",
            "/usr/local/lib/python3.6/dist-packages/ipykernel_launcher.py:2: DataConversionWarning: A column-vector y was passed when a 1d array was expected. Please change the shape of y to (n_samples,), for example using ravel().\n",
            "  \n"
          ],
          "name": "stderr"
        }
      ]
    },
    {
      "cell_type": "code",
      "metadata": {
        "id": "9VwkdqBBkCM-",
        "colab_type": "code",
        "colab": {
          "base_uri": "https://localhost:8080/",
          "height": 1000
        },
        "outputId": "8c987102-8d0f-49b2-bd4b-d6555e25f6d4"
      },
      "source": [
        "# Tuning to get the best parameters of randomforest\n",
        "param ={\n",
        "    \"criterion\":['gini','entropy'],\n",
        "    \"min_samples_split\" : np.arange(1,100,1),\n",
        "    \"n_estimators\":np.arange(1,100,1),\n",
        "    \"max_depth\":np.arange(1,10,1),\n",
        "    \"n_jobs\":np.arange(1,100,1)\n",
        "}\n",
        "kfold = KFold(n_splits=10,random_state=0)\n",
        "rsc = RandomizedSearchCV(ran_f,param,cv=kfold,verbose=0,random_state=0)\n",
        "rsc.fit(x_train,y_train)\n",
        "print(rsc.best_params_)\n",
        "print(rsc.best_score_)"
      ],
      "execution_count": 148,
      "outputs": [
        {
          "output_type": "stream",
          "text": [
            "/usr/local/lib/python3.6/dist-packages/sklearn/model_selection/_validation.py:516: DataConversionWarning: A column-vector y was passed when a 1d array was expected. Please change the shape of y to (n_samples,), for example using ravel().\n",
            "  estimator.fit(X_train, y_train, **fit_params)\n",
            "/usr/local/lib/python3.6/dist-packages/sklearn/model_selection/_validation.py:516: DataConversionWarning: A column-vector y was passed when a 1d array was expected. Please change the shape of y to (n_samples,), for example using ravel().\n",
            "  estimator.fit(X_train, y_train, **fit_params)\n",
            "/usr/local/lib/python3.6/dist-packages/sklearn/model_selection/_validation.py:516: DataConversionWarning: A column-vector y was passed when a 1d array was expected. Please change the shape of y to (n_samples,), for example using ravel().\n",
            "  estimator.fit(X_train, y_train, **fit_params)\n",
            "/usr/local/lib/python3.6/dist-packages/sklearn/model_selection/_validation.py:516: DataConversionWarning: A column-vector y was passed when a 1d array was expected. Please change the shape of y to (n_samples,), for example using ravel().\n",
            "  estimator.fit(X_train, y_train, **fit_params)\n",
            "/usr/local/lib/python3.6/dist-packages/sklearn/model_selection/_validation.py:516: DataConversionWarning: A column-vector y was passed when a 1d array was expected. Please change the shape of y to (n_samples,), for example using ravel().\n",
            "  estimator.fit(X_train, y_train, **fit_params)\n",
            "/usr/local/lib/python3.6/dist-packages/sklearn/model_selection/_validation.py:516: DataConversionWarning: A column-vector y was passed when a 1d array was expected. Please change the shape of y to (n_samples,), for example using ravel().\n",
            "  estimator.fit(X_train, y_train, **fit_params)\n",
            "/usr/local/lib/python3.6/dist-packages/sklearn/model_selection/_validation.py:516: DataConversionWarning: A column-vector y was passed when a 1d array was expected. Please change the shape of y to (n_samples,), for example using ravel().\n",
            "  estimator.fit(X_train, y_train, **fit_params)\n",
            "/usr/local/lib/python3.6/dist-packages/sklearn/model_selection/_validation.py:516: DataConversionWarning: A column-vector y was passed when a 1d array was expected. Please change the shape of y to (n_samples,), for example using ravel().\n",
            "  estimator.fit(X_train, y_train, **fit_params)\n",
            "/usr/local/lib/python3.6/dist-packages/sklearn/model_selection/_validation.py:516: DataConversionWarning: A column-vector y was passed when a 1d array was expected. Please change the shape of y to (n_samples,), for example using ravel().\n",
            "  estimator.fit(X_train, y_train, **fit_params)\n",
            "/usr/local/lib/python3.6/dist-packages/sklearn/model_selection/_validation.py:516: DataConversionWarning: A column-vector y was passed when a 1d array was expected. Please change the shape of y to (n_samples,), for example using ravel().\n",
            "  estimator.fit(X_train, y_train, **fit_params)\n",
            "/usr/local/lib/python3.6/dist-packages/sklearn/model_selection/_validation.py:516: DataConversionWarning: A column-vector y was passed when a 1d array was expected. Please change the shape of y to (n_samples,), for example using ravel().\n",
            "  estimator.fit(X_train, y_train, **fit_params)\n",
            "/usr/local/lib/python3.6/dist-packages/sklearn/model_selection/_validation.py:516: DataConversionWarning: A column-vector y was passed when a 1d array was expected. Please change the shape of y to (n_samples,), for example using ravel().\n",
            "  estimator.fit(X_train, y_train, **fit_params)\n",
            "/usr/local/lib/python3.6/dist-packages/sklearn/model_selection/_validation.py:516: DataConversionWarning: A column-vector y was passed when a 1d array was expected. Please change the shape of y to (n_samples,), for example using ravel().\n",
            "  estimator.fit(X_train, y_train, **fit_params)\n",
            "/usr/local/lib/python3.6/dist-packages/sklearn/model_selection/_validation.py:516: DataConversionWarning: A column-vector y was passed when a 1d array was expected. Please change the shape of y to (n_samples,), for example using ravel().\n",
            "  estimator.fit(X_train, y_train, **fit_params)\n",
            "/usr/local/lib/python3.6/dist-packages/sklearn/model_selection/_validation.py:516: DataConversionWarning: A column-vector y was passed when a 1d array was expected. Please change the shape of y to (n_samples,), for example using ravel().\n",
            "  estimator.fit(X_train, y_train, **fit_params)\n",
            "/usr/local/lib/python3.6/dist-packages/sklearn/model_selection/_validation.py:516: DataConversionWarning: A column-vector y was passed when a 1d array was expected. Please change the shape of y to (n_samples,), for example using ravel().\n",
            "  estimator.fit(X_train, y_train, **fit_params)\n",
            "/usr/local/lib/python3.6/dist-packages/sklearn/model_selection/_validation.py:516: DataConversionWarning: A column-vector y was passed when a 1d array was expected. Please change the shape of y to (n_samples,), for example using ravel().\n",
            "  estimator.fit(X_train, y_train, **fit_params)\n",
            "/usr/local/lib/python3.6/dist-packages/sklearn/model_selection/_validation.py:516: DataConversionWarning: A column-vector y was passed when a 1d array was expected. Please change the shape of y to (n_samples,), for example using ravel().\n",
            "  estimator.fit(X_train, y_train, **fit_params)\n",
            "/usr/local/lib/python3.6/dist-packages/sklearn/model_selection/_validation.py:516: DataConversionWarning: A column-vector y was passed when a 1d array was expected. Please change the shape of y to (n_samples,), for example using ravel().\n",
            "  estimator.fit(X_train, y_train, **fit_params)\n",
            "/usr/local/lib/python3.6/dist-packages/sklearn/model_selection/_validation.py:516: DataConversionWarning: A column-vector y was passed when a 1d array was expected. Please change the shape of y to (n_samples,), for example using ravel().\n",
            "  estimator.fit(X_train, y_train, **fit_params)\n",
            "/usr/local/lib/python3.6/dist-packages/sklearn/model_selection/_validation.py:516: DataConversionWarning: A column-vector y was passed when a 1d array was expected. Please change the shape of y to (n_samples,), for example using ravel().\n",
            "  estimator.fit(X_train, y_train, **fit_params)\n",
            "/usr/local/lib/python3.6/dist-packages/sklearn/model_selection/_validation.py:516: DataConversionWarning: A column-vector y was passed when a 1d array was expected. Please change the shape of y to (n_samples,), for example using ravel().\n",
            "  estimator.fit(X_train, y_train, **fit_params)\n",
            "/usr/local/lib/python3.6/dist-packages/sklearn/model_selection/_validation.py:516: DataConversionWarning: A column-vector y was passed when a 1d array was expected. Please change the shape of y to (n_samples,), for example using ravel().\n",
            "  estimator.fit(X_train, y_train, **fit_params)\n",
            "/usr/local/lib/python3.6/dist-packages/sklearn/model_selection/_validation.py:516: DataConversionWarning: A column-vector y was passed when a 1d array was expected. Please change the shape of y to (n_samples,), for example using ravel().\n",
            "  estimator.fit(X_train, y_train, **fit_params)\n",
            "/usr/local/lib/python3.6/dist-packages/sklearn/model_selection/_validation.py:516: DataConversionWarning: A column-vector y was passed when a 1d array was expected. Please change the shape of y to (n_samples,), for example using ravel().\n",
            "  estimator.fit(X_train, y_train, **fit_params)\n",
            "/usr/local/lib/python3.6/dist-packages/sklearn/model_selection/_validation.py:516: DataConversionWarning: A column-vector y was passed when a 1d array was expected. Please change the shape of y to (n_samples,), for example using ravel().\n",
            "  estimator.fit(X_train, y_train, **fit_params)\n",
            "/usr/local/lib/python3.6/dist-packages/sklearn/model_selection/_validation.py:516: DataConversionWarning: A column-vector y was passed when a 1d array was expected. Please change the shape of y to (n_samples,), for example using ravel().\n",
            "  estimator.fit(X_train, y_train, **fit_params)\n",
            "/usr/local/lib/python3.6/dist-packages/sklearn/model_selection/_validation.py:516: DataConversionWarning: A column-vector y was passed when a 1d array was expected. Please change the shape of y to (n_samples,), for example using ravel().\n",
            "  estimator.fit(X_train, y_train, **fit_params)\n",
            "/usr/local/lib/python3.6/dist-packages/sklearn/model_selection/_validation.py:516: DataConversionWarning: A column-vector y was passed when a 1d array was expected. Please change the shape of y to (n_samples,), for example using ravel().\n",
            "  estimator.fit(X_train, y_train, **fit_params)\n",
            "/usr/local/lib/python3.6/dist-packages/sklearn/model_selection/_validation.py:516: DataConversionWarning: A column-vector y was passed when a 1d array was expected. Please change the shape of y to (n_samples,), for example using ravel().\n",
            "  estimator.fit(X_train, y_train, **fit_params)\n",
            "/usr/local/lib/python3.6/dist-packages/sklearn/model_selection/_validation.py:516: DataConversionWarning: A column-vector y was passed when a 1d array was expected. Please change the shape of y to (n_samples,), for example using ravel().\n",
            "  estimator.fit(X_train, y_train, **fit_params)\n",
            "/usr/local/lib/python3.6/dist-packages/sklearn/model_selection/_validation.py:516: DataConversionWarning: A column-vector y was passed when a 1d array was expected. Please change the shape of y to (n_samples,), for example using ravel().\n",
            "  estimator.fit(X_train, y_train, **fit_params)\n",
            "/usr/local/lib/python3.6/dist-packages/sklearn/model_selection/_validation.py:516: DataConversionWarning: A column-vector y was passed when a 1d array was expected. Please change the shape of y to (n_samples,), for example using ravel().\n",
            "  estimator.fit(X_train, y_train, **fit_params)\n",
            "/usr/local/lib/python3.6/dist-packages/sklearn/model_selection/_validation.py:516: DataConversionWarning: A column-vector y was passed when a 1d array was expected. Please change the shape of y to (n_samples,), for example using ravel().\n",
            "  estimator.fit(X_train, y_train, **fit_params)\n",
            "/usr/local/lib/python3.6/dist-packages/sklearn/model_selection/_validation.py:516: DataConversionWarning: A column-vector y was passed when a 1d array was expected. Please change the shape of y to (n_samples,), for example using ravel().\n",
            "  estimator.fit(X_train, y_train, **fit_params)\n",
            "/usr/local/lib/python3.6/dist-packages/sklearn/model_selection/_validation.py:516: DataConversionWarning: A column-vector y was passed when a 1d array was expected. Please change the shape of y to (n_samples,), for example using ravel().\n",
            "  estimator.fit(X_train, y_train, **fit_params)\n",
            "/usr/local/lib/python3.6/dist-packages/sklearn/model_selection/_validation.py:516: DataConversionWarning: A column-vector y was passed when a 1d array was expected. Please change the shape of y to (n_samples,), for example using ravel().\n",
            "  estimator.fit(X_train, y_train, **fit_params)\n",
            "/usr/local/lib/python3.6/dist-packages/sklearn/model_selection/_validation.py:516: DataConversionWarning: A column-vector y was passed when a 1d array was expected. Please change the shape of y to (n_samples,), for example using ravel().\n",
            "  estimator.fit(X_train, y_train, **fit_params)\n",
            "/usr/local/lib/python3.6/dist-packages/sklearn/model_selection/_validation.py:516: DataConversionWarning: A column-vector y was passed when a 1d array was expected. Please change the shape of y to (n_samples,), for example using ravel().\n",
            "  estimator.fit(X_train, y_train, **fit_params)\n",
            "/usr/local/lib/python3.6/dist-packages/sklearn/model_selection/_validation.py:516: DataConversionWarning: A column-vector y was passed when a 1d array was expected. Please change the shape of y to (n_samples,), for example using ravel().\n",
            "  estimator.fit(X_train, y_train, **fit_params)\n",
            "/usr/local/lib/python3.6/dist-packages/sklearn/model_selection/_validation.py:516: DataConversionWarning: A column-vector y was passed when a 1d array was expected. Please change the shape of y to (n_samples,), for example using ravel().\n",
            "  estimator.fit(X_train, y_train, **fit_params)\n",
            "/usr/local/lib/python3.6/dist-packages/sklearn/model_selection/_validation.py:516: DataConversionWarning: A column-vector y was passed when a 1d array was expected. Please change the shape of y to (n_samples,), for example using ravel().\n",
            "  estimator.fit(X_train, y_train, **fit_params)\n",
            "/usr/local/lib/python3.6/dist-packages/sklearn/model_selection/_validation.py:516: DataConversionWarning: A column-vector y was passed when a 1d array was expected. Please change the shape of y to (n_samples,), for example using ravel().\n",
            "  estimator.fit(X_train, y_train, **fit_params)\n",
            "/usr/local/lib/python3.6/dist-packages/sklearn/model_selection/_validation.py:516: DataConversionWarning: A column-vector y was passed when a 1d array was expected. Please change the shape of y to (n_samples,), for example using ravel().\n",
            "  estimator.fit(X_train, y_train, **fit_params)\n",
            "/usr/local/lib/python3.6/dist-packages/sklearn/model_selection/_validation.py:516: DataConversionWarning: A column-vector y was passed when a 1d array was expected. Please change the shape of y to (n_samples,), for example using ravel().\n",
            "  estimator.fit(X_train, y_train, **fit_params)\n",
            "/usr/local/lib/python3.6/dist-packages/sklearn/model_selection/_validation.py:516: DataConversionWarning: A column-vector y was passed when a 1d array was expected. Please change the shape of y to (n_samples,), for example using ravel().\n",
            "  estimator.fit(X_train, y_train, **fit_params)\n",
            "/usr/local/lib/python3.6/dist-packages/sklearn/model_selection/_validation.py:516: DataConversionWarning: A column-vector y was passed when a 1d array was expected. Please change the shape of y to (n_samples,), for example using ravel().\n",
            "  estimator.fit(X_train, y_train, **fit_params)\n",
            "/usr/local/lib/python3.6/dist-packages/sklearn/model_selection/_validation.py:516: DataConversionWarning: A column-vector y was passed when a 1d array was expected. Please change the shape of y to (n_samples,), for example using ravel().\n",
            "  estimator.fit(X_train, y_train, **fit_params)\n",
            "/usr/local/lib/python3.6/dist-packages/sklearn/model_selection/_validation.py:516: DataConversionWarning: A column-vector y was passed when a 1d array was expected. Please change the shape of y to (n_samples,), for example using ravel().\n",
            "  estimator.fit(X_train, y_train, **fit_params)\n",
            "/usr/local/lib/python3.6/dist-packages/sklearn/model_selection/_validation.py:516: DataConversionWarning: A column-vector y was passed when a 1d array was expected. Please change the shape of y to (n_samples,), for example using ravel().\n",
            "  estimator.fit(X_train, y_train, **fit_params)\n",
            "/usr/local/lib/python3.6/dist-packages/sklearn/model_selection/_validation.py:516: DataConversionWarning: A column-vector y was passed when a 1d array was expected. Please change the shape of y to (n_samples,), for example using ravel().\n",
            "  estimator.fit(X_train, y_train, **fit_params)\n",
            "/usr/local/lib/python3.6/dist-packages/sklearn/model_selection/_validation.py:516: DataConversionWarning: A column-vector y was passed when a 1d array was expected. Please change the shape of y to (n_samples,), for example using ravel().\n",
            "  estimator.fit(X_train, y_train, **fit_params)\n",
            "/usr/local/lib/python3.6/dist-packages/sklearn/model_selection/_validation.py:516: DataConversionWarning: A column-vector y was passed when a 1d array was expected. Please change the shape of y to (n_samples,), for example using ravel().\n",
            "  estimator.fit(X_train, y_train, **fit_params)\n",
            "/usr/local/lib/python3.6/dist-packages/sklearn/model_selection/_validation.py:516: DataConversionWarning: A column-vector y was passed when a 1d array was expected. Please change the shape of y to (n_samples,), for example using ravel().\n",
            "  estimator.fit(X_train, y_train, **fit_params)\n",
            "/usr/local/lib/python3.6/dist-packages/sklearn/model_selection/_validation.py:516: DataConversionWarning: A column-vector y was passed when a 1d array was expected. Please change the shape of y to (n_samples,), for example using ravel().\n",
            "  estimator.fit(X_train, y_train, **fit_params)\n",
            "/usr/local/lib/python3.6/dist-packages/sklearn/model_selection/_validation.py:516: DataConversionWarning: A column-vector y was passed when a 1d array was expected. Please change the shape of y to (n_samples,), for example using ravel().\n",
            "  estimator.fit(X_train, y_train, **fit_params)\n",
            "/usr/local/lib/python3.6/dist-packages/sklearn/model_selection/_validation.py:516: DataConversionWarning: A column-vector y was passed when a 1d array was expected. Please change the shape of y to (n_samples,), for example using ravel().\n",
            "  estimator.fit(X_train, y_train, **fit_params)\n",
            "/usr/local/lib/python3.6/dist-packages/sklearn/model_selection/_validation.py:516: DataConversionWarning: A column-vector y was passed when a 1d array was expected. Please change the shape of y to (n_samples,), for example using ravel().\n",
            "  estimator.fit(X_train, y_train, **fit_params)\n",
            "/usr/local/lib/python3.6/dist-packages/sklearn/model_selection/_validation.py:516: DataConversionWarning: A column-vector y was passed when a 1d array was expected. Please change the shape of y to (n_samples,), for example using ravel().\n",
            "  estimator.fit(X_train, y_train, **fit_params)\n",
            "/usr/local/lib/python3.6/dist-packages/sklearn/model_selection/_validation.py:516: DataConversionWarning: A column-vector y was passed when a 1d array was expected. Please change the shape of y to (n_samples,), for example using ravel().\n",
            "  estimator.fit(X_train, y_train, **fit_params)\n",
            "/usr/local/lib/python3.6/dist-packages/sklearn/model_selection/_validation.py:516: DataConversionWarning: A column-vector y was passed when a 1d array was expected. Please change the shape of y to (n_samples,), for example using ravel().\n",
            "  estimator.fit(X_train, y_train, **fit_params)\n",
            "/usr/local/lib/python3.6/dist-packages/sklearn/model_selection/_validation.py:516: DataConversionWarning: A column-vector y was passed when a 1d array was expected. Please change the shape of y to (n_samples,), for example using ravel().\n",
            "  estimator.fit(X_train, y_train, **fit_params)\n",
            "/usr/local/lib/python3.6/dist-packages/sklearn/model_selection/_validation.py:516: DataConversionWarning: A column-vector y was passed when a 1d array was expected. Please change the shape of y to (n_samples,), for example using ravel().\n",
            "  estimator.fit(X_train, y_train, **fit_params)\n",
            "/usr/local/lib/python3.6/dist-packages/sklearn/model_selection/_validation.py:516: DataConversionWarning: A column-vector y was passed when a 1d array was expected. Please change the shape of y to (n_samples,), for example using ravel().\n",
            "  estimator.fit(X_train, y_train, **fit_params)\n",
            "/usr/local/lib/python3.6/dist-packages/sklearn/model_selection/_validation.py:516: DataConversionWarning: A column-vector y was passed when a 1d array was expected. Please change the shape of y to (n_samples,), for example using ravel().\n",
            "  estimator.fit(X_train, y_train, **fit_params)\n",
            "/usr/local/lib/python3.6/dist-packages/sklearn/model_selection/_validation.py:516: DataConversionWarning: A column-vector y was passed when a 1d array was expected. Please change the shape of y to (n_samples,), for example using ravel().\n",
            "  estimator.fit(X_train, y_train, **fit_params)\n",
            "/usr/local/lib/python3.6/dist-packages/sklearn/model_selection/_validation.py:516: DataConversionWarning: A column-vector y was passed when a 1d array was expected. Please change the shape of y to (n_samples,), for example using ravel().\n",
            "  estimator.fit(X_train, y_train, **fit_params)\n",
            "/usr/local/lib/python3.6/dist-packages/sklearn/model_selection/_validation.py:516: DataConversionWarning: A column-vector y was passed when a 1d array was expected. Please change the shape of y to (n_samples,), for example using ravel().\n",
            "  estimator.fit(X_train, y_train, **fit_params)\n",
            "/usr/local/lib/python3.6/dist-packages/sklearn/model_selection/_validation.py:516: DataConversionWarning: A column-vector y was passed when a 1d array was expected. Please change the shape of y to (n_samples,), for example using ravel().\n",
            "  estimator.fit(X_train, y_train, **fit_params)\n",
            "/usr/local/lib/python3.6/dist-packages/sklearn/model_selection/_validation.py:516: DataConversionWarning: A column-vector y was passed when a 1d array was expected. Please change the shape of y to (n_samples,), for example using ravel().\n",
            "  estimator.fit(X_train, y_train, **fit_params)\n",
            "/usr/local/lib/python3.6/dist-packages/sklearn/model_selection/_validation.py:516: DataConversionWarning: A column-vector y was passed when a 1d array was expected. Please change the shape of y to (n_samples,), for example using ravel().\n",
            "  estimator.fit(X_train, y_train, **fit_params)\n",
            "/usr/local/lib/python3.6/dist-packages/sklearn/model_selection/_validation.py:516: DataConversionWarning: A column-vector y was passed when a 1d array was expected. Please change the shape of y to (n_samples,), for example using ravel().\n",
            "  estimator.fit(X_train, y_train, **fit_params)\n",
            "/usr/local/lib/python3.6/dist-packages/sklearn/model_selection/_validation.py:516: DataConversionWarning: A column-vector y was passed when a 1d array was expected. Please change the shape of y to (n_samples,), for example using ravel().\n",
            "  estimator.fit(X_train, y_train, **fit_params)\n",
            "/usr/local/lib/python3.6/dist-packages/sklearn/model_selection/_validation.py:516: DataConversionWarning: A column-vector y was passed when a 1d array was expected. Please change the shape of y to (n_samples,), for example using ravel().\n",
            "  estimator.fit(X_train, y_train, **fit_params)\n",
            "/usr/local/lib/python3.6/dist-packages/sklearn/model_selection/_validation.py:516: DataConversionWarning: A column-vector y was passed when a 1d array was expected. Please change the shape of y to (n_samples,), for example using ravel().\n",
            "  estimator.fit(X_train, y_train, **fit_params)\n",
            "/usr/local/lib/python3.6/dist-packages/sklearn/model_selection/_validation.py:516: DataConversionWarning: A column-vector y was passed when a 1d array was expected. Please change the shape of y to (n_samples,), for example using ravel().\n",
            "  estimator.fit(X_train, y_train, **fit_params)\n",
            "/usr/local/lib/python3.6/dist-packages/sklearn/model_selection/_validation.py:516: DataConversionWarning: A column-vector y was passed when a 1d array was expected. Please change the shape of y to (n_samples,), for example using ravel().\n",
            "  estimator.fit(X_train, y_train, **fit_params)\n",
            "/usr/local/lib/python3.6/dist-packages/sklearn/model_selection/_validation.py:516: DataConversionWarning: A column-vector y was passed when a 1d array was expected. Please change the shape of y to (n_samples,), for example using ravel().\n",
            "  estimator.fit(X_train, y_train, **fit_params)\n",
            "/usr/local/lib/python3.6/dist-packages/sklearn/model_selection/_validation.py:516: DataConversionWarning: A column-vector y was passed when a 1d array was expected. Please change the shape of y to (n_samples,), for example using ravel().\n",
            "  estimator.fit(X_train, y_train, **fit_params)\n",
            "/usr/local/lib/python3.6/dist-packages/sklearn/model_selection/_validation.py:516: DataConversionWarning: A column-vector y was passed when a 1d array was expected. Please change the shape of y to (n_samples,), for example using ravel().\n",
            "  estimator.fit(X_train, y_train, **fit_params)\n",
            "/usr/local/lib/python3.6/dist-packages/sklearn/model_selection/_validation.py:516: DataConversionWarning: A column-vector y was passed when a 1d array was expected. Please change the shape of y to (n_samples,), for example using ravel().\n",
            "  estimator.fit(X_train, y_train, **fit_params)\n",
            "/usr/local/lib/python3.6/dist-packages/sklearn/model_selection/_validation.py:516: DataConversionWarning: A column-vector y was passed when a 1d array was expected. Please change the shape of y to (n_samples,), for example using ravel().\n",
            "  estimator.fit(X_train, y_train, **fit_params)\n",
            "/usr/local/lib/python3.6/dist-packages/sklearn/model_selection/_validation.py:516: DataConversionWarning: A column-vector y was passed when a 1d array was expected. Please change the shape of y to (n_samples,), for example using ravel().\n",
            "  estimator.fit(X_train, y_train, **fit_params)\n",
            "/usr/local/lib/python3.6/dist-packages/sklearn/model_selection/_validation.py:516: DataConversionWarning: A column-vector y was passed when a 1d array was expected. Please change the shape of y to (n_samples,), for example using ravel().\n",
            "  estimator.fit(X_train, y_train, **fit_params)\n",
            "/usr/local/lib/python3.6/dist-packages/sklearn/model_selection/_validation.py:516: DataConversionWarning: A column-vector y was passed when a 1d array was expected. Please change the shape of y to (n_samples,), for example using ravel().\n",
            "  estimator.fit(X_train, y_train, **fit_params)\n",
            "/usr/local/lib/python3.6/dist-packages/sklearn/model_selection/_validation.py:516: DataConversionWarning: A column-vector y was passed when a 1d array was expected. Please change the shape of y to (n_samples,), for example using ravel().\n",
            "  estimator.fit(X_train, y_train, **fit_params)\n",
            "/usr/local/lib/python3.6/dist-packages/sklearn/model_selection/_validation.py:516: DataConversionWarning: A column-vector y was passed when a 1d array was expected. Please change the shape of y to (n_samples,), for example using ravel().\n",
            "  estimator.fit(X_train, y_train, **fit_params)\n",
            "/usr/local/lib/python3.6/dist-packages/sklearn/model_selection/_validation.py:516: DataConversionWarning: A column-vector y was passed when a 1d array was expected. Please change the shape of y to (n_samples,), for example using ravel().\n",
            "  estimator.fit(X_train, y_train, **fit_params)\n",
            "/usr/local/lib/python3.6/dist-packages/sklearn/model_selection/_validation.py:516: DataConversionWarning: A column-vector y was passed when a 1d array was expected. Please change the shape of y to (n_samples,), for example using ravel().\n",
            "  estimator.fit(X_train, y_train, **fit_params)\n",
            "/usr/local/lib/python3.6/dist-packages/sklearn/model_selection/_validation.py:516: DataConversionWarning: A column-vector y was passed when a 1d array was expected. Please change the shape of y to (n_samples,), for example using ravel().\n",
            "  estimator.fit(X_train, y_train, **fit_params)\n",
            "/usr/local/lib/python3.6/dist-packages/sklearn/model_selection/_validation.py:516: DataConversionWarning: A column-vector y was passed when a 1d array was expected. Please change the shape of y to (n_samples,), for example using ravel().\n",
            "  estimator.fit(X_train, y_train, **fit_params)\n",
            "/usr/local/lib/python3.6/dist-packages/sklearn/model_selection/_validation.py:516: DataConversionWarning: A column-vector y was passed when a 1d array was expected. Please change the shape of y to (n_samples,), for example using ravel().\n",
            "  estimator.fit(X_train, y_train, **fit_params)\n",
            "/usr/local/lib/python3.6/dist-packages/sklearn/model_selection/_validation.py:516: DataConversionWarning: A column-vector y was passed when a 1d array was expected. Please change the shape of y to (n_samples,), for example using ravel().\n",
            "  estimator.fit(X_train, y_train, **fit_params)\n",
            "/usr/local/lib/python3.6/dist-packages/sklearn/model_selection/_validation.py:516: DataConversionWarning: A column-vector y was passed when a 1d array was expected. Please change the shape of y to (n_samples,), for example using ravel().\n",
            "  estimator.fit(X_train, y_train, **fit_params)\n",
            "/usr/local/lib/python3.6/dist-packages/sklearn/model_selection/_validation.py:516: DataConversionWarning: A column-vector y was passed when a 1d array was expected. Please change the shape of y to (n_samples,), for example using ravel().\n",
            "  estimator.fit(X_train, y_train, **fit_params)\n",
            "/usr/local/lib/python3.6/dist-packages/sklearn/model_selection/_validation.py:516: DataConversionWarning: A column-vector y was passed when a 1d array was expected. Please change the shape of y to (n_samples,), for example using ravel().\n",
            "  estimator.fit(X_train, y_train, **fit_params)\n",
            "/usr/local/lib/python3.6/dist-packages/sklearn/model_selection/_validation.py:516: DataConversionWarning: A column-vector y was passed when a 1d array was expected. Please change the shape of y to (n_samples,), for example using ravel().\n",
            "  estimator.fit(X_train, y_train, **fit_params)\n",
            "/usr/local/lib/python3.6/dist-packages/sklearn/model_selection/_validation.py:516: DataConversionWarning: A column-vector y was passed when a 1d array was expected. Please change the shape of y to (n_samples,), for example using ravel().\n",
            "  estimator.fit(X_train, y_train, **fit_params)\n",
            "/usr/local/lib/python3.6/dist-packages/sklearn/model_selection/_validation.py:516: DataConversionWarning: A column-vector y was passed when a 1d array was expected. Please change the shape of y to (n_samples,), for example using ravel().\n",
            "  estimator.fit(X_train, y_train, **fit_params)\n",
            "/usr/local/lib/python3.6/dist-packages/sklearn/model_selection/_validation.py:516: DataConversionWarning: A column-vector y was passed when a 1d array was expected. Please change the shape of y to (n_samples,), for example using ravel().\n",
            "  estimator.fit(X_train, y_train, **fit_params)\n"
          ],
          "name": "stderr"
        },
        {
          "output_type": "stream",
          "text": [
            "{'n_jobs': 65, 'n_estimators': 52, 'min_samples_split': 50, 'max_depth': 7, 'criterion': 'entropy'}\n",
            "0.9854132901134521\n"
          ],
          "name": "stdout"
        },
        {
          "output_type": "stream",
          "text": [
            "/usr/local/lib/python3.6/dist-packages/sklearn/model_selection/_search.py:715: DataConversionWarning: A column-vector y was passed when a 1d array was expected. Please change the shape of y to (n_samples,), for example using ravel().\n",
            "  self.best_estimator_.fit(X, y, **fit_params)\n"
          ],
          "name": "stderr"
        }
      ]
    }
  ]
}