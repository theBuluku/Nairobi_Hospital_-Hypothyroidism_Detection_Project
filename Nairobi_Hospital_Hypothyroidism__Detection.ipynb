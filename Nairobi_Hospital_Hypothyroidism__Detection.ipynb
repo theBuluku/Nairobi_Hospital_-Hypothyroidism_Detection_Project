{
  "nbformat": 4,
  "nbformat_minor": 0,
  "metadata": {
    "colab": {
      "name": "Nairobi_Hospital_Hypothyroidism__Detection",
      "provenance": [],
      "collapsed_sections": [],
      "toc_visible": true,
      "include_colab_link": true
    },
    "kernelspec": {
      "name": "python3",
      "display_name": "Python 3"
    },
    "accelerator": "GPU"
  },
  "cells": [
    {
      "cell_type": "markdown",
      "metadata": {
        "id": "view-in-github",
        "colab_type": "text"
      },
      "source": [
        "<a href=\"https://colab.research.google.com/github/theBuluku/Nairobi_Hospital_-Hypothyroidism_Detection_Project/blob/master/Nairobi_Hospital_Hypothyroidism__Detection.ipynb\" target=\"_parent\"><img src=\"https://colab.research.google.com/assets/colab-badge.svg\" alt=\"Open In Colab\"/></a>"
      ]
    },
    {
      "cell_type": "markdown",
      "metadata": {
        "id": "4m_nnVhkxYs9",
        "colab_type": "text"
      },
      "source": [
        "#Problem Statement."
      ]
    },
    {
      "cell_type": "markdown",
      "metadata": {
        "id": "u72Vak31yA23",
        "colab_type": "text"
      },
      "source": [
        "To determine whether or not the patient's symptoms indicate that the patient has hypothyroid."
      ]
    },
    {
      "cell_type": "markdown",
      "metadata": {
        "id": "w0xlSOwWyQfc",
        "colab_type": "text"
      },
      "source": [
        "# Metrics of Sucess.\n"
      ]
    },
    {
      "cell_type": "markdown",
      "metadata": {
        "id": "toRz_PNzyjvu",
        "colab_type": "text"
      },
      "source": [
        "#Importing Environments to use in the Project."
      ]
    },
    {
      "cell_type": "code",
      "metadata": {
        "id": "3GCLrNO1yuzZ",
        "colab_type": "code",
        "colab": {}
      },
      "source": [
        "#Import libraries\n",
        "import numpy as np\n",
        "import pandas as pd\n",
        "import pydotplus\n",
        "#Importing decision tree modules.\n",
        "from sklearn.tree import DecisionTreeClassifier\n",
        "from sklearn.model_selection import train_test_split\n",
        "from sklearn.tree import export_graphviz\n",
        "from sklearn.externals.six import StringIO  \n",
        "from IPython.display import Image  \n",
        "from sklearn.decomposition import PCA\n",
        "from sklearn.model_selection import train_test_split\n",
        "from sklearn.metrics import confusion_matrix,accuracy_score\n",
        "from sklearn.svm import SVC\n",
        "# Import Suport Vector Classifier module from svm library. We'll use SVC to model our data\n",
        "from sklearn.svm import SVC,LinearSVC\n",
        "from sklearn.model_selection import train_test_split\n",
        "#Import scikit-learn module for accuracy calculation\n",
        "from sklearn.metrics import  accuracy_score\n",
        "from sklearn.metrics import confusion_matrix\n",
        "import seaborn as sns\n",
        "from imblearn.over_sampling import SMOTE "
      ],
      "execution_count": 0,
      "outputs": []
    },
    {
      "cell_type": "markdown",
      "metadata": {
        "id": "03v8K3uD4CF4",
        "colab_type": "text"
      },
      "source": [
        "#Dataset Loading."
      ]
    },
    {
      "cell_type": "code",
      "metadata": {
        "id": "o0ZJbvh64LEw",
        "colab_type": "code",
        "colab": {}
      },
      "source": [
        "#Loading our dataset to use for modelling and displaying the first five rows of the data.\n",
        "nairobi_hosp_data=pd.read_csv('hypothyroid.csv')\n",
        "nairobi_hosp_data.head(6)"
      ],
      "execution_count": 0,
      "outputs": []
    },
    {
      "cell_type": "markdown",
      "metadata": {
        "id": "Ue2GX4iM5dPr",
        "colab_type": "text"
      },
      "source": [
        "#Exploratory Data Analysis."
      ]
    },
    {
      "cell_type": "markdown",
      "metadata": {
        "id": "sYgG8TrG5m-R",
        "colab_type": "text"
      },
      "source": [
        "This section is for the purpose of getting insights from our dataset and exploring more from our data."
      ]
    },
    {
      "cell_type": "code",
      "metadata": {
        "id": "RDwt91O-54Yd",
        "colab_type": "code",
        "colab": {}
      },
      "source": [
        "#checking the statistical information of the data\n",
        "nairobi_hosp_data.describe()"
      ],
      "execution_count": 0,
      "outputs": []
    },
    {
      "cell_type": "code",
      "metadata": {
        "id": "aDthhxXpTI0z",
        "colab_type": "code",
        "colab": {}
      },
      "source": [
        "#checking the number of rows and columns\n",
        "nairobi_hosp_data.shape"
      ],
      "execution_count": 0,
      "outputs": []
    },
    {
      "cell_type": "code",
      "metadata": {
        "id": "m86QRmOaTuPh",
        "colab_type": "code",
        "colab": {}
      },
      "source": [
        "#checking the general information about the dataset\n",
        "nairobi_hosp_data.info()"
      ],
      "execution_count": 0,
      "outputs": []
    },
    {
      "cell_type": "code",
      "metadata": {
        "id": "IjgLoVFeLHRk",
        "colab_type": "code",
        "colab": {}
      },
      "source": [
        "#Checking for the data types in the dataset.\n",
        "nairobi_hosp_data.dtypes"
      ],
      "execution_count": 0,
      "outputs": []
    },
    {
      "cell_type": "code",
      "metadata": {
        "id": "mc8NyLu8LnuC",
        "colab_type": "code",
        "colab": {}
      },
      "source": [
        "#Replacing \"?\" entries with null values\n",
        "nairobi_hosp_data=nairobi_hosp_data.replace('?',np.nan)\n",
        "nairobi_hosp_data.isnull().sum()"
      ],
      "execution_count": 0,
      "outputs": []
    },
    {
      "cell_type": "code",
      "metadata": {
        "id": "vl5HXqGXMa3O",
        "colab_type": "code",
        "colab": {}
      },
      "source": [
        "# Getting unique values for categorical columns\n",
        "columns = nairobi_hosp_data.columns\n",
        "for i in columns:\n",
        "  print(i)\n",
        "  print(nairobi_hosp_data[i].unique())\n",
        "  print(\"******************\")\n",
        "  print(\"\\n\")"
      ],
      "execution_count": 0,
      "outputs": []
    },
    {
      "cell_type": "code",
      "metadata": {
        "id": "cvsU59MxQLwn",
        "colab_type": "code",
        "colab": {}
      },
      "source": [
        "# changing the the data types of the dataset\n",
        "cat =['status','sex', 'on_thyroxine', 'query_on_thyroxine',\n",
        "       'on_antithyroid_medication', 'thyroid_surgery', 'query_hypothyroid',\n",
        "       'query_hyperthyroid', 'pregnant', 'sick', 'tumor', 'lithium', 'goitre',\n",
        "       'TSH_measured', 'T3_measured', 'TT4_measured','T4U_measured','FTI_measured','TBG_measured']\n",
        "for i in nairobi_hosp_data.columns:\n",
        "  if i in cat:\n",
        "    nairobi_hosp_data[i] =nairobi_hosp_data[i].astype('category')\n",
        "  else:\n",
        "    nairobi_hosp_data[i] = pd.to_numeric(nairobi_hosp_data[i])\n",
        "nairobi_hosp_data.dtypes"
      ],
      "execution_count": 0,
      "outputs": []
    },
    {
      "cell_type": "code",
      "metadata": {
        "id": "JXdpDxqnSBLf",
        "colab_type": "code",
        "colab": {}
      },
      "source": [
        "# Dealing with missing values\n",
        "# For age and sex, i will fill with most common age and sex respectively which use of mode\n",
        "nairobi_hosp_data['age'] = nairobi_hosp_data['age'].fillna(nairobi_hosp_data['age'].mode()[0])\n",
        "\n",
        "nairobi_hosp_data['sex'] = nairobi_hosp_data['sex'].fillna(nairobi_hosp_data['sex'].mode()[0])\n",
        "nairobi_hosp_data.isnull().sum()"
      ],
      "execution_count": 0,
      "outputs": []
    },
    {
      "cell_type": "code",
      "metadata": {
        "id": "c_qAxsfgu2RS",
        "colab_type": "code",
        "colab": {}
      },
      "source": [
        "# Filling the null valued that were not measured with 0\n",
        "unit_df = ['TSH','T3','TT4','T4U','FTI','TBG']\n",
        "\n",
        "for i in unit_df:\n",
        "  nairobi_hosp_data[i].fillna(value = 0, inplace=True)"
      ],
      "execution_count": 0,
      "outputs": []
    },
    {
      "cell_type": "code",
      "metadata": {
        "id": "SwvwqL687uaR",
        "colab_type": "code",
        "colab": {
          "base_uri": "https://localhost:8080/",
          "height": 34
        },
        "outputId": "942c443d-6a74-4399-8f7a-a349cbd26857"
      },
      "source": [
        "# Checking for duplicates\n",
        "nairobi_hosp_data.duplicated().any()"
      ],
      "execution_count": 53,
      "outputs": [
        {
          "output_type": "execute_result",
          "data": {
            "text/plain": [
              "True"
            ]
          },
          "metadata": {
            "tags": []
          },
          "execution_count": 53
        }
      ]
    },
    {
      "cell_type": "code",
      "metadata": {
        "id": "qMhqbAzM74cY",
        "colab_type": "code",
        "colab": {
          "base_uri": "https://localhost:8080/",
          "height": 34
        },
        "outputId": "a43a61ae-464c-4b00-e86b-c2bc66e232ac"
      },
      "source": [
        "# Dropping the duplicates\n",
        "\n",
        "nairobi_hosp_data.drop_duplicates(inplace=True)\n",
        "\n",
        "\n",
        "# Checking that the duplicates have actualy been dropped\n",
        "\n",
        "nairobi_hosp_data.duplicated().any()"
      ],
      "execution_count": 55,
      "outputs": [
        {
          "output_type": "execute_result",
          "data": {
            "text/plain": [
              "False"
            ]
          },
          "metadata": {
            "tags": []
          },
          "execution_count": 55
        }
      ]
    },
    {
      "cell_type": "code",
      "metadata": {
        "id": "DqcEm077vNMk",
        "colab_type": "code",
        "colab": {}
      },
      "source": [
        "# Checking the relationship among all the variables\n",
        "\n",
        "sns.pairplot(nairobi_hosp_data)"
      ],
      "execution_count": 0,
      "outputs": []
    },
    {
      "cell_type": "code",
      "metadata": {
        "id": "GM-mxthK67NZ",
        "colab_type": "code",
        "colab": {}
      },
      "source": [
        "import matplotlib.pyplot as plt\n",
        "%matplotlib inline"
      ],
      "execution_count": 0,
      "outputs": []
    },
    {
      "cell_type": "code",
      "metadata": {
        "id": "eBDPC0Lfv6dJ",
        "colab_type": "code",
        "colab": {}
      },
      "source": [
        "# Checking the relationship between T4U and TBG\n",
        "sns.lmplot(x='T4U',y='TBG',hue='status',data=nairobi_hosp_data,palette=dict(hypothyroid='yellow',negative='red'),fit_reg=False)\n",
        "plt.title(\"Scatter of T4U against TBG\",color=\"blue\",fontsize=15)\n",
        "plt.xlabel(\"Scatter of T4U\" ,fontsize=15)\n",
        "plt.ylabel(\"Scatter of TBG\" ,fontsize=15)\n",
        "plt.show()"
      ],
      "execution_count": 0,
      "outputs": []
    },
    {
      "cell_type": "code",
      "metadata": {
        "id": "emjOFzEo8LZo",
        "colab_type": "code",
        "colab": {
          "base_uri": "https://localhost:8080/",
          "height": 389
        },
        "outputId": "6d6fa0f7-d408-49f5-e8fb-c2dbce91483f"
      },
      "source": [
        "# Checking the relationship between TBG and T3\n",
        "sns.lmplot(x='T3' ,y='TBG',hue='status',data=nairobi_hosp_data,palette=dict(hypothyroid='blue',negative='magenta'),fit_reg=False)\n",
        "plt.title(\"Scatter of T3 against TBG\",color=\"yellow\",fontsize=15)\n",
        "plt.xlabel(\"Scatter of T3\" ,fontsize=15)\n",
        "plt.ylabel(\"Scatter of TBG\" ,fontsize=15)\n",
        "plt.show()"
      ],
      "execution_count": 58,
      "outputs": [
        {
          "output_type": "display_data",
          "data": {
            "image/png": "[encoded data removed]",
            "text/plain": [
              "<Figure size 456x360 with 1 Axes>"
            ]
          },
          "metadata": {
            "tags": []
          }
        }
      ]
    },
    {
      "cell_type": "code",
      "metadata": {
        "id": "aWGySdBc8ta4",
        "colab_type": "code",
        "colab": {
          "base_uri": "https://localhost:8080/",
          "height": 323
        },
        "outputId": "eb971ac1-a03a-4c60-a2e1-1749d87ca6c3"
      },
      "source": [
        "# Getting the relationship between variables in numeric values using a heatmap\n",
        "#\n",
        "# Correlation heatmap of the numerical variables \n",
        "corr  =nairobi_hosp_data.corr()\n",
        "\n",
        "plt.figure(figsize = (8,5))\n",
        "heatmap = np.zeros_like(nairobi_hosp_data.corr(), dtype=np.bool)\n",
        "heatmap[np.triu_indices_from(heatmap)] = True\n",
        "sns.heatmap(nairobi_hosp_data.corr(), annot=True, mask=heatmap)\n",
        "plt.show()"
      ],
      "execution_count": 61,
      "outputs": [
        {
          "output_type": "display_data",
          "data": {
            "image/png": "[encoded data removed]",
            "text/plain": [
              "<Figure size 576x360 with 2 Axes>"
            ]
          },
          "metadata": {
            "tags": []
          }
        }
      ]
    },
    {
      "cell_type": "code",
      "metadata": {
        "id": "E4dewFAW9MzG",
        "colab_type": "code",
        "colab": {
          "base_uri": "https://localhost:8080/",
          "height": 283
        },
        "outputId": "5066924a-84fa-4e66-f16d-9f8d3aa4ba7e"
      },
      "source": [
        "# Visualizing the target variable\n",
        "target  = nairobi_hosp_data.groupby('status')['status'].count()\n",
        "sns.barplot(target.index,target.values)\n",
        "plt.show()"
      ],
      "execution_count": 62,
      "outputs": [
        {
          "output_type": "display_data",
          "data": {
            "image/png": "[encoded data removed]",
            "text/plain": [
              "<Figure size 432x288 with 1 Axes>"
            ]
          },
          "metadata": {
            "tags": []
          }
        }
      ]
    },
    {
      "cell_type": "markdown",
      "metadata": {
        "id": "cp1griugwIpu",
        "colab_type": "text"
      },
      "source": [
        "#STANDARDIZING AND MODELLING."
      ]
    },
    {
      "cell_type": "code",
      "metadata": {
        "id": "DFu1HSOhy_v1",
        "colab_type": "code",
        "colab": {}
      },
      "source": [
        "from sklearn.preprocessing import StandardScaler,robust_scale,minmax_scale"
      ],
      "execution_count": 0,
      "outputs": []
    },
    {
      "cell_type": "code",
      "metadata": {
        "id": "5Pe8N_phw_2p",
        "colab_type": "code",
        "colab": {}
      },
      "source": [
        "# Splitting the dataset into target and feature set\n",
        "# Making categorical data into dummies\n",
        "\n",
        "x = nairobi_hosp_data.drop('status',axis=1)\n",
        "X = pd.get_dummies(x)\n",
        "\n",
        "y = nairobi_hosp_data['status']\n",
        "y =pd.get_dummies(y,drop_first=True)"
      ],
      "execution_count": 0,
      "outputs": []
    },
    {
      "cell_type": "code",
      "metadata": {
        "id": "jaYWj-IixZ1y",
        "colab_type": "code",
        "colab": {}
      },
      "source": [
        "#Applying SMOTE to balance the data\n",
        "\n",
        "sm = SMOTE()\n",
        "X, y = sm.fit_sample(X, y)"
      ],
      "execution_count": 0,
      "outputs": []
    },
    {
      "cell_type": "code",
      "metadata": {
        "id": "MEgQD3UTyLxd",
        "colab_type": "code",
        "colab": {}
      },
      "source": [
        "#To split the dataset for training and testing/\n",
        "\n",
        "x_train,x_test,y_train,y_test = train_test_split(X,y,random_state=0,test_size=0.2)"
      ],
      "execution_count": 0,
      "outputs": []
    },
    {
      "cell_type": "code",
      "metadata": {
        "id": "9HyM5bRGyeqR",
        "colab_type": "code",
        "colab": {}
      },
      "source": [
        "# Implementing Standard Scaler to nomalize the data\n",
        "sc = StandardScaler()\n",
        "x_train = sc.fit_transform(x_train)\n",
        "x_test = sc.transform(x_test)"
      ],
      "execution_count": 0,
      "outputs": []
    },
    {
      "cell_type": "markdown",
      "metadata": {
        "id": "vN3rQgkezOuw",
        "colab_type": "text"
      },
      "source": [
        "#SUPPORT VECTOR MACHINE MODELLING."
      ]
    },
    {
      "cell_type": "code",
      "metadata": {
        "id": "89p60w0K0Gvd",
        "colab_type": "code",
        "colab": {}
      },
      "source": [
        "#Importing support vector machine environments.\n",
        "from sklearn.metrics import accuracy_score,mean_squared_error,confusion_matrix,r2_score,precision_score,recall_score,f1_score\n",
        "import warnings"
      ],
      "execution_count": 0,
      "outputs": []
    },
    {
      "cell_type": "code",
      "metadata": {
        "id": "JSsFyt3FwMty",
        "colab_type": "code",
        "colab": {}
      },
      "source": [
        "# implementing support vector machines with a linear kernel\n",
        "svcl = SVC(kernel='linear')\n",
        "svcl.fit(x_train,y_train)\n",
        "y_pred = svcl.predict(x_test)\n",
        "print(\"accuracy_score\",accuracy_score(y_test,y_pred))\n",
        "print(\"precision_score\",precision_score(y_test,y_pred))\n",
        "print(\"recall_score\",recall_score(y_test,y_pred))\n",
        "print(\"f1_score\",f1_score(y_test,y_pred))"
      ],
      "execution_count": 0,
      "outputs": []
    },
    {
      "cell_type": "code",
      "metadata": {
        "id": "5N3IkrQAyJLl",
        "colab_type": "code",
        "colab": {}
      },
      "source": [
        "# implementing support vector machines with a polynomial kernel\n",
        "svcp = SVC(kernel='poly')\n",
        "svcp.fit(x_train,y_train)\n",
        "y_pred = svcp.predict(x_test)\n",
        "print(\"accuracy_score\",accuracy_score(y_test,y_pred))\n",
        "print(\"precision_score\",precision_score(y_test,y_pred))\n",
        "print(\"recall_score\",recall_score(y_test,y_pred))\n",
        "print(\"f1_score\",f1_score(y_test,y_pred))"
      ],
      "execution_count": 0,
      "outputs": []
    },
    {
      "cell_type": "code",
      "metadata": {
        "id": "uL-blOm40ts7",
        "colab_type": "code",
        "colab": {}
      },
      "source": [
        "# implementing support vector machines with a sigmoid kernel\n",
        "svcs = SVC(kernel='sigmoid')\n",
        "svcs.fit(x_train,y_train)\n",
        "y_pred = svcs.predict(x_test)\n",
        "print(\"accuracy_score\",accuracy_score(y_test,y_pred))\n",
        "print(\"precision_score\",precision_score(y_test,y_pred))\n",
        "print(\"recall_score\",recall_score(y_test,y_pred))\n",
        "print(\"f1_score\",f1_score(y_test,y_pred))"
      ],
      "execution_count": 0,
      "outputs": []
    },
    {
      "cell_type": "markdown",
      "metadata": {
        "id": "J_ceEg2U1JWl",
        "colab_type": "text"
      },
      "source": [
        "#DECISION TREE IMPLEMENTATION."
      ]
    },
    {
      "cell_type": "code",
      "metadata": {
        "id": "3mzdG5Bc2mlr",
        "colab_type": "code",
        "colab": {}
      },
      "source": [
        "from sklearn.ensemble import RandomForestClassifier,RandomForestRegressor,AdaBoostClassifier,AdaBoostRegressor,gradient_boosting"
      ],
      "execution_count": 0,
      "outputs": []
    },
    {
      "cell_type": "code",
      "metadata": {
        "id": "SQHPhr8X1X4o",
        "colab_type": "code",
        "colab": {}
      },
      "source": [
        "#Creating a random classifiers\n",
        "ran_f = RandomForestClassifier()\n",
        "ran_f.fit(x_train,y_train)\n",
        "y_pred = ran_f.predict(x_test)\n",
        "print(\"accuracy_score\",accuracy_score(y_test,y_pred))\n",
        "print(\"precision_score\",precision_score(y_test,y_pred))\n",
        "print(\"recall_score\",recall_score(y_test,y_pred))\n",
        "print(\"f1_score\",f1_score(y_test,y_pred))"
      ],
      "execution_count": 0,
      "outputs": []
    },
    {
      "cell_type": "markdown",
      "metadata": {
        "id": "b0E0QQeK22Qq",
        "colab_type": "text"
      },
      "source": [
        "#Parameter Tuning."
      ]
    },
    {
      "cell_type": "code",
      "metadata": {
        "id": "2P-9o5el3aR_",
        "colab_type": "code",
        "colab": {}
      },
      "source": [
        "#Importing model selection.\n",
        "from sklearn.model_selection import train_test_split,RandomizedSearchCV,KFold"
      ],
      "execution_count": 0,
      "outputs": []
    },
    {
      "cell_type": "code",
      "metadata": {
        "id": "ILU8YlFY3BAo",
        "colab_type": "code",
        "colab": {}
      },
      "source": [
        "#Tuning to get the best parameters of randomforest\n",
        "param ={\n",
        "    \"criterion\":['gini','entropy'],\n",
        "    \"min_samples_split\" : np.arange(1,100,1),\n",
        "    \"n_estimators\":np.arange(1,100,1),\n",
        "    \"max_depth\":np.arange(1,10,1),\n",
        "    \"n_jobs\":np.arange(1,100,1)\n",
        "}\n",
        "kfold = KFold(n_splits=10,random_state=0)\n",
        "rsc = RandomizedSearchCV(ran_f,param,cv=kfold,verbose=0,random_state=0)\n",
        "rsc.fit(x_train,y_train)\n",
        "print(rsc.best_params_)\n",
        "print(rsc.best_score_)"
      ],
      "execution_count": 0,
      "outputs": []
    },
    {
      "cell_type": "code",
      "metadata": {
        "id": "CbtDjEdO4I1s",
        "colab_type": "code",
        "colab": {}
      },
      "source": [
        "#To create the tree for visualization purposes using 30 trees\n",
        "clf = RandomForestClassifier(max_depth= 8,n_jobs= 83, min_samples_split= 87, criterion= 'gini',n_estimators= 30)\n",
        "clf.fit(x_train,y_train)\n",
        "data_dot = export_graphviz(clf,out_file=None,feature_names=X.columns,\n",
        "                filled=True,rounded=True,special_characters=True)\n",
        "graph = graphviz.Source(data_dot)\n",
        "graph"
      ],
      "execution_count": 0,
      "outputs": []
    },
    {
      "cell_type": "code",
      "metadata": {
        "id": "I1K1PDc8570t",
        "colab_type": "code",
        "colab": {}
      },
      "source": [
        ""
      ],
      "execution_count": 0,
      "outputs": []
    },
    {
      "cell_type": "markdown",
      "metadata": {
        "id": "8hwCvi605-mj",
        "colab_type": "text"
      },
      "source": [
        "#Boosting."
      ]
    },
    {
      "cell_type": "code",
      "metadata": {
        "id": "dtze4Jed6DRW",
        "colab_type": "code",
        "colab": {}
      },
      "source": [
        ""
      ],
      "execution_count": 0,
      "outputs": []
    }
  ]
}